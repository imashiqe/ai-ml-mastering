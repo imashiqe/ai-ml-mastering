{
 "cells": [
  {
   "cell_type": "code",
   "execution_count": 1,
   "id": "21e7d0ff",
   "metadata": {},
   "outputs": [
    {
     "name": "stdout",
     "output_type": "stream",
     "text": [
      "What is your name?\n",
      "<class 'str'>\n"
     ]
    }
   ],
   "source": [
    "prompt = \"What is your name?\"\n",
    "\n",
    "print(prompt)\n",
    "print(type(prompt))"
   ]
  },
  {
   "cell_type": "code",
   "execution_count": 2,
   "id": "838e8f8a",
   "metadata": {},
   "outputs": [
    {
     "name": "stdout",
     "output_type": "stream",
     "text": [
      " tell me about  yourself ? \n",
      "I am a student of computer science.\n",
      "I love programming. \n"
     ]
    }
   ],
   "source": [
    "message = \"\"\" tell me about  yourself ? \n",
    "I am a student of computer science.\n",
    "I love programming. \"\"\"\n",
    "print(message)"
   ]
  },
  {
   "cell_type": "code",
   "execution_count": 3,
   "id": "a38960aa",
   "metadata": {},
   "outputs": [
    {
     "name": "stdout",
     "output_type": "stream",
     "text": [
      "hello\n"
     ]
    }
   ],
   "source": [
    "str = 'hello'\n",
    "print(str)"
   ]
  },
  {
   "cell_type": "markdown",
   "id": "a3a7b78c",
   "metadata": {},
   "source": [
    "###Indexing and slicing\n"
   ]
  },
  {
   "cell_type": "code",
   "execution_count": 4,
   "id": "f9aad1b3",
   "metadata": {},
   "outputs": [
    {
     "name": "stdout",
     "output_type": "stream",
     "text": [
      "H\n"
     ]
    }
   ],
   "source": [
    "string = \"Hello World\"\n",
    "print(string[0])      # H"
   ]
  },
  {
   "cell_type": "code",
   "execution_count": null,
   "id": "8e4492c4",
   "metadata": {},
   "outputs": [],
   "source": [
    "first_message = message[0:4]"
   ]
  },
  {
   "cell_type": "code",
   "execution_count": 2,
   "id": "0279ec81",
   "metadata": {},
   "outputs": [
    {
     "name": "stdout",
     "output_type": "stream",
     "text": [
      "29\n",
      "False\n",
      "12\n",
      "welcome  to AI ML Course ml course\n"
     ]
    }
   ],
   "source": [
    "string = \"Welcome  to Phitron ML Course\"\n",
    "\n",
    "processed_string = string.lower()\n",
    "\n",
    "print(len(string))\n",
    "\n",
    "print(\"phitron\" in string)  # True\n",
    "\n",
    "\n",
    "index = processed_string.find(\"phitron\")\n",
    "print(index)\n",
    "\n",
    "\n",
    "\n",
    "# replace a substring\n",
    "\n",
    "processed_string = processed_string.replace(\"phitron\", \"AI ML Course\")\n",
    "print(processed_string)"
   ]
  },
  {
   "cell_type": "markdown",
   "id": "216ddedb",
   "metadata": {},
   "source": [
    "## Splitting joining  , formatted string"
   ]
  },
  {
   "cell_type": "code",
   "execution_count": 5,
   "id": "6206e7db",
   "metadata": {},
   "outputs": [
    {
     "name": "stdout",
     "output_type": "stream",
     "text": [
      "['What', 'is', 'phitron', '?']\n",
      "What-is-phitron-?\n"
     ]
    }
   ],
   "source": [
    "prompt = \"What is phitron ?\"\n",
    "\n",
    "tokens = prompt.split()\n",
    "print(tokens)\n",
    "\n",
    "sentence = \"-\".join(tokens)\n",
    "print(sentence)"
   ]
  },
  {
   "cell_type": "markdown",
   "id": "837f1843",
   "metadata": {},
   "source": [
    "## foramting string"
   ]
  },
  {
   "cell_type": "code",
   "execution_count": null,
   "id": "7e4267d4",
   "metadata": {},
   "outputs": [
    {
     "name": "stdout",
     "output_type": "stream",
     "text": [
      "My name is ADIL. I am 23 years old and my height is 5.9 feet.\n"
     ]
    }
   ],
   "source": [
    "name = \"ASHIQ\"\n",
    "age = 23\n",
    "height = 5.9\n",
    "\n",
    "print (f\"My name is {name.upper()}. I am {age} years old and my height is {height} feet.\")"
   ]
  }
 ],
 "metadata": {
  "kernelspec": {
   "display_name": "Python 3",
   "language": "python",
   "name": "python3"
  },
  "language_info": {
   "codemirror_mode": {
    "name": "ipython",
    "version": 3
   },
   "file_extension": ".py",
   "mimetype": "text/x-python",
   "name": "python",
   "nbconvert_exporter": "python",
   "pygments_lexer": "ipython3",
   "version": "3.13.7"
  }
 },
 "nbformat": 4,
 "nbformat_minor": 5
}
