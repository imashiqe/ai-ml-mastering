{
 "cells": [
  {
   "cell_type": "code",
   "execution_count": 1,
   "id": "21e7d0ff",
   "metadata": {},
   "outputs": [
    {
     "name": "stdout",
     "output_type": "stream",
     "text": [
      "What is your name?\n",
      "<class 'str'>\n"
     ]
    }
   ],
   "source": [
    "prompt = \"What is your name?\"\n",
    "\n",
    "print(prompt)\n",
    "print(type(prompt))"
   ]
  },
  {
   "cell_type": "code",
   "execution_count": 2,
   "id": "838e8f8a",
   "metadata": {},
   "outputs": [
    {
     "name": "stdout",
     "output_type": "stream",
     "text": [
      " tell me about  yourself ? \n",
      "I am a student of computer science.\n",
      "I love programming. \n"
     ]
    }
   ],
   "source": [
    "message = \"\"\" tell me about  yourself ? \n",
    "I am a student of computer science.\n",
    "I love programming. \"\"\"\n",
    "print(message)"
   ]
  },
  {
   "cell_type": "code",
   "execution_count": 3,
   "id": "a38960aa",
   "metadata": {},
   "outputs": [
    {
     "name": "stdout",
     "output_type": "stream",
     "text": [
      "hello\n"
     ]
    }
   ],
   "source": [
    "str = 'hello'\n",
    "print(str)"
   ]
  },
  {
   "cell_type": "markdown",
   "id": "a3a7b78c",
   "metadata": {},
   "source": [
    "###Indexing and slicing\n"
   ]
  },
  {
   "cell_type": "code",
   "execution_count": null,
   "id": "f9aad1b3",
   "metadata": {},
   "outputs": [],
   "source": [
    "string = \"Hello World\"\n",
    "print(string[0])      # H"
   ]
  }
 ],
 "metadata": {
  "kernelspec": {
   "display_name": "Python 3",
   "language": "python",
   "name": "python3"
  },
  "language_info": {
   "codemirror_mode": {
    "name": "ipython",
    "version": 3
   },
   "file_extension": ".py",
   "mimetype": "text/x-python",
   "name": "python",
   "nbconvert_exporter": "python",
   "pygments_lexer": "ipython3",
   "version": "3.13.7"
  }
 },
 "nbformat": 4,
 "nbformat_minor": 5
}
