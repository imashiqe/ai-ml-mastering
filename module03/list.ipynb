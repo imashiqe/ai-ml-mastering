{
 "cells": [
  {
   "cell_type": "code",
   "execution_count": null,
   "id": "9c812348",
   "metadata": {},
   "outputs": [],
   "source": [
    "numbers = [100,20,30,40,50]"
   ]
  },
  {
   "cell_type": "markdown",
   "id": "f4d384ff",
   "metadata": {},
   "source": [
    "## access"
   ]
  },
  {
   "cell_type": "code",
   "execution_count": null,
   "id": "caa83975",
   "metadata": {},
   "outputs": [
    {
     "name": "stdout",
     "output_type": "stream",
     "text": [
      "30\n",
      "90\n",
      "[100, 20, 90]\n"
     ]
    }
   ],
   "source": [
    "print(numbers[2])\n",
    "\n",
    "numbers[2] = 90\n",
    "\n",
    "print(numbers[2])\n",
    "\n",
    "new_list = numbers[0:3]\n",
    "\n",
    "print(new_list)"
   ]
  },
  {
   "cell_type": "markdown",
   "id": "2b343eac",
   "metadata": {},
   "source": [
    "## modification\n",
    "\n",
    "## adding a item "
   ]
  },
  {
   "cell_type": "code",
   "execution_count": null,
   "id": "532852b5",
   "metadata": {},
   "outputs": [
    {
     "name": "stdout",
     "output_type": "stream",
     "text": [
      "[100, 20, 90, 40, 50, 60]\n",
      "[100, 20, 25, 90, 40, 50, 60]\n"
     ]
    },
    {
     "data": {
      "text/plain": [
       "60"
      ]
     },
     "execution_count": 8,
     "metadata": {},
     "output_type": "execute_result"
    }
   ],
   "source": [
    "numbers.append(60)\n",
    "print(numbers)\n",
    "\n",
    "## insertion at any position\n",
    "numbers.insert(2, 25)\n",
    "print(numbers)\n",
    "\n",
    "#  DELETING \n",
    "numbers.pop()  "
   ]
  },
  {
   "cell_type": "markdown",
   "id": "2092e47b",
   "metadata": {},
   "source": [
    "###Declaration"
   ]
  },
  {
   "cell_type": "markdown",
   "id": "a1ecfc19",
   "metadata": {},
   "source": [
    "### Stack List"
   ]
  },
  {
   "cell_type": "code",
   "execution_count": null,
   "id": "a668aa43",
   "metadata": {},
   "outputs": [
    {
     "name": "stdout",
     "output_type": "stream",
     "text": [
      "30\n"
     ]
    }
   ],
   "source": [
    "stack = []\n",
    "\n",
    "stack.append(10)\n",
    "stack.append(20)\n",
    "stack.append(30)\n",
    "print(stack.pop())"
   ]
  },
  {
   "cell_type": "markdown",
   "id": "1844e3dd",
   "metadata": {},
   "source": [
    "### Queue"
   ]
  },
  {
   "cell_type": "code",
   "execution_count": null,
   "id": "76bf9899",
   "metadata": {},
   "outputs": [
    {
     "name": "stdout",
     "output_type": "stream",
     "text": [
      "[100, 2, 3]\n",
      "First element is 100\n"
     ]
    }
   ],
   "source": [
    "queue = []\n",
    "\n",
    "queue.append(100)\n",
    "queue.append(2)\n",
    "queue.append(3)\n",
    "print(queue)\n",
    "\n",
    "\n",
    "# accesing the  first element\n",
    "print(f\"First element is {queue[0]}\")"
   ]
  },
  {
   "cell_type": "markdown",
   "id": "b00ceb93",
   "metadata": {},
   "source": [
    "### list comprehension"
   ]
  },
  {
   "cell_type": "code",
   "execution_count": 3,
   "id": "114f656c",
   "metadata": {},
   "outputs": [
    {
     "name": "stdout",
     "output_type": "stream",
     "text": [
      "[2, 4, 6, 8, 10, 12, 14, 16, 18, 20, 22, 24, 26, 28, 30, 32, 34, 36, 38, 40, 42, 44, 46, 48, 50, 52, 54, 56, 58, 60, 62, 64, 66, 68, 70, 72, 74, 76, 78, 80, 82, 84, 86, 88, 90, 92, 94, 96, 98, 100]\n"
     ]
    }
   ],
   "source": [
    "even = []\n",
    "\n",
    "# for i in range(101):\n",
    "#     if i % 2 == 0:\n",
    "#         even.append(i)\n",
    "# print(even)\n",
    "\n",
    "\n",
    "random_list = [X for X in range(1,101) if X % 2 == 0]\n",
    "\n",
    "print(random_list)"
   ]
  },
  {
   "cell_type": "code",
   "execution_count": 10,
   "id": "f4dd9842",
   "metadata": {},
   "outputs": [
    {
     "name": "stdout",
     "output_type": "stream",
     "text": [
      "['APPLE']\n",
      "['APPLE', 'BANANA']\n",
      "['APPLE', 'BANANA', 'CHERRY']\n",
      "['APPLE', 'BANANA', 'CHERRY', 'DATE']\n"
     ]
    }
   ],
   "source": [
    "fruits = ['apple', 'banana', 'cherry', 'date']\n",
    "\n",
    "capitalized_fruits = []\n",
    "\n",
    "for fruit in fruits:\n",
    "    capitalized_fruits.append(fruit.upper())\n",
    "    print(capitalized_fruits)"
   ]
  },
  {
   "cell_type": "markdown",
   "id": "36bc2b1e",
   "metadata": {},
   "source": [
    "### quiz"
   ]
  },
  {
   "cell_type": "code",
   "execution_count": 11,
   "id": "51a4f782",
   "metadata": {},
   "outputs": [
    {
     "name": "stdout",
     "output_type": "stream",
     "text": [
      "i\n"
     ]
    }
   ],
   "source": [
    "word = \"Pythonista\"\n",
    "print(word[-4])"
   ]
  },
  {
   "cell_type": "code",
   "execution_count": 12,
   "id": "9fb1301f",
   "metadata": {},
   "outputs": [
    {
     "name": "stdout",
     "output_type": "stream",
     "text": [
      "loo\n"
     ]
    }
   ],
   "source": [
    "s = \"HelloWorld\"\n",
    "print(s[2:8:2])"
   ]
  },
  {
   "cell_type": "code",
   "execution_count": 13,
   "id": "1e8bab14",
   "metadata": {},
   "outputs": [
    {
     "name": "stdout",
     "output_type": "stream",
     "text": [
      "2\n"
     ]
    }
   ],
   "source": [
    "text = \"banana bandana\"\n",
    "print(text.count('ana'))"
   ]
  },
  {
   "cell_type": "code",
   "execution_count": 14,
   "id": "b71d3348",
   "metadata": {},
   "outputs": [
    {
     "name": "stdout",
     "output_type": "stream",
     "text": [
      "blue_green_red\n"
     ]
    }
   ],
   "source": [
    "msg = \"red,green,blue\"\n",
    "colors = msg.split(',')\n",
    "print(\"_\".join(colors[::-1]))"
   ]
  },
  {
   "cell_type": "code",
   "execution_count": 15,
   "id": "9b10883b",
   "metadata": {},
   "outputs": [
    {
     "name": "stdout",
     "output_type": "stream",
     "text": [
      "[2, 4, 12, 8, 10]\n"
     ]
    }
   ],
   "source": [
    "nums = [2,4,6,8,10]\n",
    "nums[2] = nums[2] * nums[0]\n",
    "print(nums)"
   ]
  },
  {
   "cell_type": "code",
   "execution_count": 16,
   "id": "e13961d6",
   "metadata": {},
   "outputs": [
    {
     "name": "stdout",
     "output_type": "stream",
     "text": [
      "['d', 'b']\n"
     ]
    }
   ],
   "source": [
    "letters = ['a', 'b', 'c', 'd', 'e']\n",
    "print(letters[1:4][::-2])"
   ]
  },
  {
   "cell_type": "code",
   "execution_count": 17,
   "id": "cee2b474",
   "metadata": {},
   "outputs": [
    {
     "ename": "IndexError",
     "evalue": "list index out of range",
     "output_type": "error",
     "traceback": [
      "\u001b[31m---------------------------------------------------------------------------\u001b[39m",
      "\u001b[31mIndexError\u001b[39m                                Traceback (most recent call last)",
      "\u001b[36mCell\u001b[39m\u001b[36m \u001b[39m\u001b[32mIn[17]\u001b[39m\u001b[32m, line 5\u001b[39m\n\u001b[32m      3\u001b[39m stack.append(i)\n\u001b[32m      4\u001b[39m stack.pop()\n\u001b[32m----> \u001b[39m\u001b[32m5\u001b[39m \u001b[38;5;28mprint\u001b[39m(\u001b[43mstack\u001b[49m\u001b[43m[\u001b[49m\u001b[43m-\u001b[49m\u001b[32;43m1\u001b[39;49m\u001b[43m]\u001b[49m)\n",
      "\u001b[31mIndexError\u001b[39m: list index out of range"
     ]
    }
   ],
   "source": [
    "stack = []\n",
    "for i in range(1,4):\n",
    "    stack.append(i)\n",
    "    stack.pop()\n",
    "    print(stack[-1])"
   ]
  },
  {
   "cell_type": "code",
   "execution_count": 18,
   "id": "70796b58",
   "metadata": {},
   "outputs": [
    {
     "name": "stdout",
     "output_type": "stream",
     "text": [
      "30\n"
     ]
    }
   ],
   "source": [
    "queue = [10,20,30,40]\n",
    "queue.pop(1)\n",
    "queue.append(50)\n",
    "queue.pop(0)\n",
    "print(queue[0])"
   ]
  },
  {
   "cell_type": "code",
   "execution_count": 19,
   "id": "7caccdee",
   "metadata": {},
   "outputs": [
    {
     "name": "stdout",
     "output_type": "stream",
     "text": [
      "[4, 16]\n"
     ]
    }
   ],
   "source": [
    "nums = [1,2,3,4]\n",
    "squares = [x**2 for x in nums if x % 2 == 0]\n",
    "print(squares)"
   ]
  },
  {
   "cell_type": "code",
   "execution_count": null,
   "id": "03d65803",
   "metadata": {},
   "outputs": [],
   "source": [
    "x = [1,2,3,2,4]\n",
    "x.remove(4)\n",
    "x.pop()\n",
    "print(x)"
   ]
  }
 ],
 "metadata": {
  "kernelspec": {
   "display_name": "Python 3",
   "language": "python",
   "name": "python3"
  },
  "language_info": {
   "codemirror_mode": {
    "name": "ipython",
    "version": 3
   },
   "file_extension": ".py",
   "mimetype": "text/x-python",
   "name": "python",
   "nbconvert_exporter": "python",
   "pygments_lexer": "ipython3",
   "version": "3.13.0"
  }
 },
 "nbformat": 4,
 "nbformat_minor": 5
}
