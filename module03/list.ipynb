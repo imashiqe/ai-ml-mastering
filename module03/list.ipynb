{
 "cells": [
  {
   "cell_type": "code",
   "execution_count": 6,
   "id": "9c812348",
   "metadata": {},
   "outputs": [],
   "source": [
    "numbers = [100,20,30,40,50]"
   ]
  },
  {
   "cell_type": "markdown",
   "id": "c9417edd",
   "metadata": {},
   "source": [
    "## access"
   ]
  },
  {
   "cell_type": "code",
   "execution_count": 7,
   "id": "caa83975",
   "metadata": {},
   "outputs": [
    {
     "name": "stdout",
     "output_type": "stream",
     "text": [
      "30\n",
      "90\n",
      "[100, 20, 90]\n"
     ]
    }
   ],
   "source": [
    "print(numbers[2])\n",
    "\n",
    "numbers[2] = 90\n",
    "\n",
    "print(numbers[2])\n",
    "\n",
    "new_list = numbers[0:3]\n",
    "\n",
    "print(new_list)"
   ]
  },
  {
   "cell_type": "markdown",
   "id": "2b343eac",
   "metadata": {},
   "source": [
    "## modification\n",
    "\n",
    "## adding a item "
   ]
  },
  {
   "cell_type": "code",
   "execution_count": null,
   "id": "532852b5",
   "metadata": {},
   "outputs": [],
   "source": [
    "numbers.append(60)\n",
    "print(numbers)\n",
    "\n",
    "## insertion at any position\n",
    "numbers.insert(2, 25)\n",
    "print(numbers)\n",
    "\n",
    "#  DELETING \n",
    "numbers.pop()  "
   ]
  }
 ],
 "metadata": {
  "kernelspec": {
   "display_name": "Python 3",
   "language": "python",
   "name": "python3"
  },
  "language_info": {
   "codemirror_mode": {
    "name": "ipython",
    "version": 3
   },
   "file_extension": ".py",
   "mimetype": "text/x-python",
   "name": "python",
   "nbconvert_exporter": "python",
   "pygments_lexer": "ipython3",
   "version": "3.13.7"
  }
 },
 "nbformat": 4,
 "nbformat_minor": 5
}
