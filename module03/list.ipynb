{
 "cells": [
  {
   "cell_type": "code",
   "execution_count": 6,
   "id": "9c812348",
   "metadata": {},
   "outputs": [],
   "source": [
    "numbers = [100,20,30,40,50]"
   ]
  },
  {
   "cell_type": "markdown",
   "id": "c9417edd",
   "metadata": {},
   "source": [
    "## access"
   ]
  },
  {
   "cell_type": "code",
   "execution_count": 7,
   "id": "caa83975",
   "metadata": {},
   "outputs": [
    {
     "name": "stdout",
     "output_type": "stream",
     "text": [
      "30\n",
      "90\n",
      "[100, 20, 90]\n"
     ]
    }
   ],
   "source": [
    "print(numbers[2])\n",
    "\n",
    "numbers[2] = 90\n",
    "\n",
    "print(numbers[2])\n",
    "\n",
    "new_list = numbers[0:3]\n",
    "\n",
    "print(new_list)"
   ]
  },
  {
   "cell_type": "markdown",
   "id": "2b343eac",
   "metadata": {},
   "source": [
    "## modification\n",
    "\n",
    "## adding a item "
   ]
  },
  {
   "cell_type": "code",
   "execution_count": 8,
   "id": "532852b5",
   "metadata": {},
   "outputs": [
    {
     "name": "stdout",
     "output_type": "stream",
     "text": [
      "[100, 20, 90, 40, 50, 60]\n",
      "[100, 20, 25, 90, 40, 50, 60]\n"
     ]
    },
    {
     "data": {
      "text/plain": [
       "60"
      ]
     },
     "execution_count": 8,
     "metadata": {},
     "output_type": "execute_result"
    }
   ],
   "source": [
    "numbers.append(60)\n",
    "print(numbers)\n",
    "\n",
    "## insertion at any position\n",
    "numbers.insert(2, 25)\n",
    "print(numbers)\n",
    "\n",
    "#  DELETING \n",
    "numbers.pop()  "
   ]
  },
  {
   "cell_type": "markdown",
   "id": "2092e47b",
   "metadata": {},
   "source": [
    "###Declaration"
   ]
  },
  {
   "cell_type": "markdown",
   "id": "a1ecfc19",
   "metadata": {},
   "source": [
    "### Stack List"
   ]
  },
  {
   "cell_type": "code",
   "execution_count": null,
   "id": "a668aa43",
   "metadata": {},
   "outputs": [
    {
     "ename": "IndexError",
     "evalue": "pop index out of range",
     "output_type": "error",
     "traceback": [
      "\u001b[31m---------------------------------------------------------------------------\u001b[39m",
      "\u001b[31mIndexError\u001b[39m                                Traceback (most recent call last)",
      "\u001b[36mCell\u001b[39m\u001b[36m \u001b[39m\u001b[32mIn[10]\u001b[39m\u001b[32m, line 5\u001b[39m\n\u001b[32m      3\u001b[39m stack.append(\u001b[32m10\u001b[39m)\n\u001b[32m      4\u001b[39m stack.append(\u001b[32m20\u001b[39m)\n\u001b[32m----> \u001b[39m\u001b[32m5\u001b[39m \u001b[43mstack\u001b[49m\u001b[43m.\u001b[49m\u001b[43mpop\u001b[49m\u001b[43m(\u001b[49m\u001b[32;43m30\u001b[39;49m\u001b[43m)\u001b[49m\n\u001b[32m      6\u001b[39m \u001b[38;5;28mprint\u001b[39m(stack)\n",
      "\u001b[31mIndexError\u001b[39m: pop index out of range"
     ]
    }
   ],
   "source": [
    "stack = []\n",
    "\n",
    "stack.append(10)\n",
    "stack.append(20)\n",
    "stack.append(30)\n",
    "print(stack.pop())"
   ]
  }
 ],
 "metadata": {
  "kernelspec": {
   "display_name": "Python 3",
   "language": "python",
   "name": "python3"
  },
  "language_info": {
   "codemirror_mode": {
    "name": "ipython",
    "version": 3
   },
   "file_extension": ".py",
   "mimetype": "text/x-python",
   "name": "python",
   "nbconvert_exporter": "python",
   "pygments_lexer": "ipython3",
   "version": "3.13.7"
  }
 },
 "nbformat": 4,
 "nbformat_minor": 5
}
