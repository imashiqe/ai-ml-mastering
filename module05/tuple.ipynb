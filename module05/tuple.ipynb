{
 "cells": [
  {
   "cell_type": "markdown",
   "id": "bd17af86",
   "metadata": {},
   "source": [
    "### Tuples"
   ]
  },
  {
   "cell_type": "code",
   "execution_count": 4,
   "id": "9faca215",
   "metadata": {},
   "outputs": [
    {
     "name": "stdout",
     "output_type": "stream",
     "text": [
      "<class 'tuple'> (10.5, 10.2)\n",
      "(10, 10.5, 'str', True)\n",
      "<class 'tuple'> (10, 20)\n"
     ]
    }
   ],
   "source": [
    "# declaration\n",
    "\n",
    "tup = (10,20,30,40)\n",
    "\n",
    "float_tup = (10.5,10.2)\n",
    "\n",
    "print(type(float_tup), float_tup)\n",
    "\n",
    "mixed_tup = (10,10.5 , \"str\" , True)\n",
    "\n",
    "print(mixed_tup)\n",
    "\n",
    "tup1 = (10,20)\n",
    "\n",
    "print(type(tup1), tup1)"
   ]
  },
  {
   "cell_type": "code",
   "execution_count": 7,
   "id": "051f479b",
   "metadata": {},
   "outputs": [
    {
     "name": "stdout",
     "output_type": "stream",
     "text": [
      "40\n",
      "(10, 20, 30)\n"
     ]
    }
   ],
   "source": [
    "# Acccess\n",
    "\n",
    "tup = (10,20,30,40,10.5 , \"str\" , False)\n",
    "\n",
    "print(tup[3])\n",
    "\n",
    "# Slicing\n",
    "\n",
    "new_tup = tup[0:3]\n",
    "print(new_tup)\n",
    "\n"
   ]
  },
  {
   "cell_type": "code",
   "execution_count": 8,
   "id": "8f72707c",
   "metadata": {},
   "outputs": [
    {
     "name": "stdout",
     "output_type": "stream",
     "text": [
      "3\n",
      "2\n"
     ]
    }
   ],
   "source": [
    "# tuple method\n",
    "\n",
    "tup = (10,20,30,40,10,20,10)\n",
    "\n",
    "print(tup.count(10))\n",
    "print(tup.index(30))"
   ]
  },
  {
   "cell_type": "markdown",
   "id": "4cd18191",
   "metadata": {},
   "source": [
    "### Set"
   ]
  },
  {
   "cell_type": "code",
   "execution_count": 11,
   "id": "7577ae19",
   "metadata": {},
   "outputs": [
    {
     "name": "stdout",
     "output_type": "stream",
     "text": [
      "<class 'set'> {1, 2, 3}\n"
     ]
    }
   ],
   "source": [
    "A = { 1,2,3}\n",
    "print(type(A) , A)"
   ]
  },
  {
   "cell_type": "code",
   "execution_count": 12,
   "id": "9c7163e2",
   "metadata": {},
   "outputs": [
    {
     "name": "stdout",
     "output_type": "stream",
     "text": [
      "<class 'list'>\n",
      "<class 'tuple'>\n",
      "<class 'set'>\n"
     ]
    }
   ],
   "source": [
    "B = []\n",
    "\n",
    "print(type(B))\n",
    "\n",
    "C = ()\n",
    "\n",
    "print(type(C))\n",
    "\n",
    "S = set()\n",
    "\n",
    "print(type(S))"
   ]
  },
  {
   "cell_type": "code",
   "execution_count": 13,
   "id": "88e2c033",
   "metadata": {},
   "outputs": [
    {
     "name": "stdout",
     "output_type": "stream",
     "text": [
      "not present\n",
      "10\n"
     ]
    }
   ],
   "source": [
    "S = { 1,2,3,4,1,2}\n",
    "\n",
    "if(10 in S):\n",
    "    print(\"3 is present\")\n",
    "else:\n",
    "    print(\"not present\")\n",
    "sum = 0\n",
    "\n",
    "for element in S:\n",
    "    sum += element\n",
    "print(sum)    "
   ]
  },
  {
   "cell_type": "code",
   "execution_count": null,
   "id": "ec2b2295",
   "metadata": {},
   "outputs": [
    {
     "ename": "AttributeError",
     "evalue": "'tuple' object has no attribute 'add'",
     "output_type": "error",
     "traceback": [
      "\u001b[31m---------------------------------------------------------------------------\u001b[39m",
      "\u001b[31mAttributeError\u001b[39m                            Traceback (most recent call last)",
      "\u001b[36mCell\u001b[39m\u001b[36m \u001b[39m\u001b[32mIn[17]\u001b[39m\u001b[32m, line 3\u001b[39m\n\u001b[32m      1\u001b[39m S = (\u001b[32m5\u001b[39m,\u001b[32m1\u001b[39m,\u001b[32m2\u001b[39m,\u001b[32m4\u001b[39m,\u001b[32m3\u001b[39m)\n\u001b[32m----> \u001b[39m\u001b[32m3\u001b[39m \u001b[43mS\u001b[49m\u001b[43m.\u001b[49m\u001b[43madd\u001b[49m(\u001b[32m10\u001b[39m)\n\u001b[32m      4\u001b[39m S.add(\u001b[32m0\u001b[39m)\n\u001b[32m      6\u001b[39m \u001b[38;5;28mprint\u001b[39m(S)\n",
      "\u001b[31mAttributeError\u001b[39m: 'tuple' object has no attribute 'add'"
     ]
    }
   ],
   "source": [
    "S = (5,1,2,4,3)\n",
    "\n",
    "S.add(10)      \n",
    "S.add(0)\n",
    "\n",
    "print(S)\n",
    "\n",
    "S.pop()\n",
    "S.pop()\n",
    "print(S)\n",
    "S.remove(5)\n",
    "\n",
    "print(S)"
   ]
  },
  {
   "cell_type": "code",
   "execution_count": null,
   "id": "6fc5df38",
   "metadata": {},
   "outputs": [],
   "source": [
    "a = {1,2,3}\n",
    "b ={2,3,4}\n",
    "\n",
    "print( a.union(b) )\n",
    "print( a.intersection(b) )\n",
    "print(a.isdisjoint(b))"
   ]
  }
 ],
 "metadata": {
  "kernelspec": {
   "display_name": "Python 3",
   "language": "python",
   "name": "python3"
  },
  "language_info": {
   "codemirror_mode": {
    "name": "ipython",
    "version": 3
   },
   "file_extension": ".py",
   "mimetype": "text/x-python",
   "name": "python",
   "nbconvert_exporter": "python",
   "pygments_lexer": "ipython3",
   "version": "3.13.7"
  }
 },
 "nbformat": 4,
 "nbformat_minor": 5
}
