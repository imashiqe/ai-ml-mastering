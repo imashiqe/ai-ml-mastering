{
 "cells": [
  {
   "cell_type": "markdown",
   "id": "bd17af86",
   "metadata": {},
   "source": [
    "### Tuples"
   ]
  },
  {
   "cell_type": "code",
   "execution_count": 4,
   "id": "9faca215",
   "metadata": {},
   "outputs": [
    {
     "name": "stdout",
     "output_type": "stream",
     "text": [
      "<class 'tuple'> (10.5, 10.2)\n",
      "(10, 10.5, 'str', True)\n",
      "<class 'tuple'> (10, 20)\n"
     ]
    }
   ],
   "source": [
    "# declaration\n",
    "\n",
    "tup = (10,20,30,40)\n",
    "\n",
    "float_tup = (10.5,10.2)\n",
    "\n",
    "print(type(float_tup), float_tup)\n",
    "\n",
    "mixed_tup = (10,10.5 , \"str\" , True)\n",
    "\n",
    "print(mixed_tup)\n",
    "\n",
    "tup1 = (10,20)\n",
    "\n",
    "print(type(tup1), tup1)"
   ]
  },
  {
   "cell_type": "code",
   "execution_count": 7,
   "id": "051f479b",
   "metadata": {},
   "outputs": [
    {
     "name": "stdout",
     "output_type": "stream",
     "text": [
      "40\n",
      "(10, 20, 30)\n"
     ]
    }
   ],
   "source": [
    "# Acccess\n",
    "\n",
    "tup = (10,20,30,40,10.5 , \"str\" , False)\n",
    "\n",
    "print(tup[3])\n",
    "\n",
    "# Slicing\n",
    "\n",
    "new_tup = tup[0:3]\n",
    "print(new_tup)\n",
    "\n"
   ]
  },
  {
   "cell_type": "code",
   "execution_count": 8,
   "id": "8f72707c",
   "metadata": {},
   "outputs": [
    {
     "name": "stdout",
     "output_type": "stream",
     "text": [
      "3\n",
      "2\n"
     ]
    }
   ],
   "source": [
    "# tuple method\n",
    "\n",
    "tup = (10,20,30,40,10,20,10)\n",
    "\n",
    "print(tup.count(10))\n",
    "print(tup.index(30))"
   ]
  }
 ],
 "metadata": {
  "kernelspec": {
   "display_name": "Python 3",
   "language": "python",
   "name": "python3"
  },
  "language_info": {
   "codemirror_mode": {
    "name": "ipython",
    "version": 3
   },
   "file_extension": ".py",
   "mimetype": "text/x-python",
   "name": "python",
   "nbconvert_exporter": "python",
   "pygments_lexer": "ipython3",
   "version": "3.13.7"
  }
 },
 "nbformat": 4,
 "nbformat_minor": 5
}
