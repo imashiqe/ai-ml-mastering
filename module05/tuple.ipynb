{
 "cells": [
  {
   "cell_type": "markdown",
   "id": "bd17af86",
   "metadata": {},
   "source": [
    "### Tuples"
   ]
  },
  {
   "cell_type": "code",
   "execution_count": 4,
   "id": "9faca215",
   "metadata": {},
   "outputs": [
    {
     "name": "stdout",
     "output_type": "stream",
     "text": [
      "<class 'tuple'> (10.5, 10.2)\n",
      "(10, 10.5, 'str', True)\n",
      "<class 'tuple'> (10, 20)\n"
     ]
    }
   ],
   "source": [
    "# declaration\n",
    "\n",
    "tup = (10,20,30,40)\n",
    "\n",
    "float_tup = (10.5,10.2)\n",
    "\n",
    "print(type(float_tup), float_tup)\n",
    "\n",
    "mixed_tup = (10,10.5 , \"str\" , True)\n",
    "\n",
    "print(mixed_tup)\n",
    "\n",
    "tup1 = (10,20)\n",
    "\n",
    "print(type(tup1), tup1)"
   ]
  },
  {
   "cell_type": "code",
   "execution_count": 7,
   "id": "051f479b",
   "metadata": {},
   "outputs": [
    {
     "name": "stdout",
     "output_type": "stream",
     "text": [
      "40\n",
      "(10, 20, 30)\n"
     ]
    }
   ],
   "source": [
    "# Acccess\n",
    "\n",
    "tup = (10,20,30,40,10.5 , \"str\" , False)\n",
    "\n",
    "print(tup[3])\n",
    "\n",
    "# Slicing\n",
    "\n",
    "new_tup = tup[0:3]\n",
    "print(new_tup)\n",
    "\n"
   ]
  },
  {
   "cell_type": "code",
   "execution_count": 8,
   "id": "8f72707c",
   "metadata": {},
   "outputs": [
    {
     "name": "stdout",
     "output_type": "stream",
     "text": [
      "3\n",
      "2\n"
     ]
    }
   ],
   "source": [
    "# tuple method\n",
    "\n",
    "tup = (10,20,30,40,10,20,10)\n",
    "\n",
    "print(tup.count(10))\n",
    "print(tup.index(30))"
   ]
  },
  {
   "cell_type": "markdown",
   "id": "4cd18191",
   "metadata": {},
   "source": [
    "### Set"
   ]
  },
  {
   "cell_type": "code",
   "execution_count": 11,
   "id": "7577ae19",
   "metadata": {},
   "outputs": [
    {
     "name": "stdout",
     "output_type": "stream",
     "text": [
      "<class 'set'> {1, 2, 3}\n"
     ]
    }
   ],
   "source": [
    "A = { 1,2,3}\n",
    "print(type(A) , A)"
   ]
  },
  {
   "cell_type": "code",
   "execution_count": 12,
   "id": "9c7163e2",
   "metadata": {},
   "outputs": [
    {
     "name": "stdout",
     "output_type": "stream",
     "text": [
      "<class 'list'>\n",
      "<class 'tuple'>\n",
      "<class 'set'>\n"
     ]
    }
   ],
   "source": [
    "B = []\n",
    "\n",
    "print(type(B))\n",
    "\n",
    "C = ()\n",
    "\n",
    "print(type(C))\n",
    "\n",
    "S = set()\n",
    "\n",
    "print(type(S))"
   ]
  },
  {
   "cell_type": "code",
   "execution_count": 13,
   "id": "88e2c033",
   "metadata": {},
   "outputs": [
    {
     "name": "stdout",
     "output_type": "stream",
     "text": [
      "not present\n",
      "10\n"
     ]
    }
   ],
   "source": [
    "S = { 1,2,3,4,1,2}\n",
    "\n",
    "if(10 in S):\n",
    "    print(\"3 is present\")\n",
    "else:\n",
    "    print(\"not present\")\n",
    "sum = 0\n",
    "\n",
    "for element in S:\n",
    "    sum += element\n",
    "print(sum)    "
   ]
  },
  {
   "cell_type": "code",
   "execution_count": null,
   "id": "ec2b2295",
   "metadata": {},
   "outputs": [
    {
     "ename": "AttributeError",
     "evalue": "'tuple' object has no attribute 'add'",
     "output_type": "error",
     "traceback": [
      "\u001b[31m---------------------------------------------------------------------------\u001b[39m",
      "\u001b[31mAttributeError\u001b[39m                            Traceback (most recent call last)",
      "\u001b[36mCell\u001b[39m\u001b[36m \u001b[39m\u001b[32mIn[17]\u001b[39m\u001b[32m, line 3\u001b[39m\n\u001b[32m      1\u001b[39m S = (\u001b[32m5\u001b[39m,\u001b[32m1\u001b[39m,\u001b[32m2\u001b[39m,\u001b[32m4\u001b[39m,\u001b[32m3\u001b[39m)\n\u001b[32m----> \u001b[39m\u001b[32m3\u001b[39m \u001b[43mS\u001b[49m\u001b[43m.\u001b[49m\u001b[43madd\u001b[49m(\u001b[32m10\u001b[39m)\n\u001b[32m      4\u001b[39m S.add(\u001b[32m0\u001b[39m)\n\u001b[32m      6\u001b[39m \u001b[38;5;28mprint\u001b[39m(S)\n",
      "\u001b[31mAttributeError\u001b[39m: 'tuple' object has no attribute 'add'"
     ]
    }
   ],
   "source": [
    "S = (5,1,2,4,3)\n",
    "\n",
    "S.add(10)      \n",
    "S.add(0)\n",
    "\n",
    "print(S)\n",
    "\n",
    "S.pop()\n",
    "S.pop()\n",
    "print(S)\n",
    "S.remove(5)\n",
    "\n",
    "print(S)"
   ]
  },
  {
   "cell_type": "code",
   "execution_count": 18,
   "id": "6fc5df38",
   "metadata": {},
   "outputs": [
    {
     "name": "stdout",
     "output_type": "stream",
     "text": [
      "{1, 2, 3, 4}\n",
      "{2, 3}\n",
      "False\n"
     ]
    }
   ],
   "source": [
    "a = {1,2,3}\n",
    "b ={2,3,4}\n",
    "\n",
    "print( a.union(b) )\n",
    "print( a.intersection(b) )\n",
    "print(a.isdisjoint(b))"
   ]
  },
  {
   "cell_type": "code",
   "execution_count": 7,
   "id": "713b3c5e",
   "metadata": {},
   "outputs": [
    {
     "name": "stdout",
     "output_type": "stream",
     "text": [
      "<class 'dict'>\n",
      "<class 'dict'> {'name': 'Phitron', 'age': 20, 'address': 'Dhaka', 'numbers': [123, 456, 789]}\n"
     ]
    }
   ],
   "source": [
    "# empty\n",
    "\n",
    "dic = {}\n",
    "\n",
    "print(type(dic))\n",
    "\n",
    "dic = { \"name\" : \"Phitron\" , \"age\" : 20 , \"address\" : \"Dhaka\" ,  \"numbers\" : [123,456,789] }\n",
    "\n",
    "print(type(dic) , dic)"
   ]
  },
  {
   "cell_type": "code",
   "execution_count": 8,
   "id": "e82de5ed",
   "metadata": {},
   "outputs": [
    {
     "name": "stdout",
     "output_type": "stream",
     "text": [
      "[123, 456, 789]\n"
     ]
    }
   ],
   "source": [
    "# access\n",
    "# dic_name[key]\n",
    "\n",
    "print(dic[\"numbers\"])"
   ]
  },
  {
   "cell_type": "code",
   "execution_count": 9,
   "id": "af2a9860",
   "metadata": {},
   "outputs": [
    {
     "name": "stdout",
     "output_type": "stream",
     "text": [
      "{'name': 'Phitron', 'age': 20, 'address': 'Dhaka', 'numbers': [123, 456, 789]}\n",
      "None\n",
      "0\n"
     ]
    }
   ],
   "source": [
    "print(dic)\n",
    "\n",
    "print(dic.get(\"math_marks\"))\n",
    "print(dic.get(\"math_marks\", 0))"
   ]
  },
  {
   "cell_type": "code",
   "execution_count": 13,
   "id": "f2963495",
   "metadata": {},
   "outputs": [
    {
     "name": "stdout",
     "output_type": "stream",
     "text": [
      "{'name': 'Phitron', 'age': 20, 'address': 'Dhaka', 'numbers': [123, 456, 789]}\n",
      "{'name': 'Phitron', 'age': 20, 'address': 'Dhaka', 'numbers': [123, 456, 789], 'math_marks': 30, 'english_marks': 40}\n"
     ]
    }
   ],
   "source": [
    "dic = { \"name\" : \"Phitron\" , \"age\" : 20 , \"address\" : \"Dhaka\" ,  \"numbers\" : [123,456,789] }\n",
    "\n",
    "print(dic)\n",
    "dic[\"math_marks\"] = 30\n",
    "dic.update({\"english_marks\" : 40})\n",
    "print(dic)\n",
    "\n"
   ]
  },
  {
   "cell_type": "code",
   "execution_count": 14,
   "id": "07764ec8",
   "metadata": {},
   "outputs": [
    {
     "name": "stdout",
     "output_type": "stream",
     "text": [
      "{'name': 'Phitron', 'age': 20, 'address': 'Dhaka', 'numbers': [123, 456, 789], 'math_marks': 30, 'english_marks': 40}\n"
     ]
    }
   ],
   "source": [
    "dic_2=dic.copy()\n",
    "print(dic_2)"
   ]
  },
  {
   "cell_type": "code",
   "execution_count": 17,
   "id": "a10f575e",
   "metadata": {},
   "outputs": [
    {
     "name": "stdout",
     "output_type": "stream",
     "text": [
      "{'key': {'name': 'Ashiqe'}}\n"
     ]
    }
   ],
   "source": [
    "# testing \n",
    "\n",
    "dic_3 = {\"key\" : {\"name\" : \"Ashiqe\"}}\n",
    "\n",
    "# dic_3 = {(10,20,30) : \"a\"}\n",
    "\n",
    "print(dic_3)"
   ]
  },
  {
   "cell_type": "code",
   "execution_count": 23,
   "id": "f8d0920f",
   "metadata": {},
   "outputs": [
    {
     "name": "stdout",
     "output_type": "stream",
     "text": [
      "dict_keys(['name', 'age', 'address', 'numbers', 'math_marks', 'english_marks'])\n",
      "dict_keys(['name', 'age', 'address', 'numbers', 'math_marks', 'english_marks', 'math_numbers'])\n",
      "dict_values(['Ashiqe', 20, 'Dhaka', [123, 456, 789], 30, 40, 30])\n"
     ]
    }
   ],
   "source": [
    "dic =  {'name': 'Ashiqe', 'age': 20, 'address': 'Dhaka', 'numbers': [123, 456, 789], 'math_marks': 30, 'english_marks': 40}\n",
    "\n",
    "keys = dic.keys()\n",
    "print(keys)\n",
    "\n",
    "dic[\"math_numbers\"] = 30\n",
    "print(keys)\n",
    "\n",
    "values = dic.values()\n",
    "print(values)\n",
    "\n",
    "items = dic.items()"
   ]
  },
  {
   "cell_type": "code",
   "execution_count": 24,
   "id": "aae1116a",
   "metadata": {},
   "outputs": [
    {
     "name": "stdout",
     "output_type": "stream",
     "text": [
      "name Ashiqe\n",
      "age 20\n",
      "address Dhaka\n",
      "numbers [123, 456, 789]\n",
      "math_marks 30\n",
      "english_marks 40\n",
      "math_numbers 30\n"
     ]
    }
   ],
   "source": [
    "# iteration\n",
    "\n",
    "for key,value in dic.items() :\n",
    "    print(key,value)"
   ]
  },
  {
   "cell_type": "code",
   "execution_count": 30,
   "id": "8090dccf",
   "metadata": {},
   "outputs": [
    {
     "name": "stdout",
     "output_type": "stream",
     "text": [
      "[1, 2, 3, 4, 5, 6, 7, 8, 9, 10]\n",
      "{1: 1, 2: 4, 3: 9, 4: 16, 5: 25, 6: 36, 7: 49, 8: 64, 9: 81, 10: 100}\n"
     ]
    }
   ],
   "source": [
    "# Dictionary Comprehension\n",
    "squar = {x:x**2 for x in range(1,11)}\n",
    "print(list(range(1,11)))\n",
    "\n",
    "print(squar)"
   ]
  },
  {
   "cell_type": "code",
   "execution_count": 34,
   "id": "7493a49e",
   "metadata": {},
   "outputs": [
    {
     "name": "stdout",
     "output_type": "stream",
     "text": [
      "{(10, 10, 5): 'dhaka', (20, 5, 192): 'chittagong', (101, 102): 'sylhet'}\n"
     ]
    }
   ],
   "source": [
    "Co_ordinates = [(10,10,5), (20,5,192) , (101,102)]\n",
    "Location = [ \"dhaka\", \"chittagong\" , \"sylhet\"]\n",
    "exact_location = {co_or : loc for co_or, loc in zip(Co_ordinates, Location)}\n",
    "\n",
    "print(exact_location)"
   ]
  }
 ],
 "metadata": {
  "kernelspec": {
   "display_name": "Python 3",
   "language": "python",
   "name": "python3"
  },
  "language_info": {
   "codemirror_mode": {
    "name": "ipython",
    "version": 3
   },
   "file_extension": ".py",
   "mimetype": "text/x-python",
   "name": "python",
   "nbconvert_exporter": "python",
   "pygments_lexer": "ipython3",
   "version": "3.13.7"
  }
 },
 "nbformat": 4,
 "nbformat_minor": 5
}
