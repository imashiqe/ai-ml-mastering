{
 "cells": [
  {
   "cell_type": "markdown",
   "id": "bd17af86",
   "metadata": {},
   "source": [
    "### Tuples"
   ]
  },
  {
   "cell_type": "code",
   "execution_count": null,
   "id": "9faca215",
   "metadata": {},
   "outputs": [],
   "source": [
    "# declaration\n",
    "\n",
    "tup = (10,20,30,40)\n",
    "\n",
    "print(type(tup) , tup)"
   ]
  }
 ],
 "metadata": {
  "kernelspec": {
   "display_name": "Python 3",
   "language": "python",
   "name": "python3"
  },
  "language_info": {
   "name": "python",
   "version": "3.13.7"
  }
 },
 "nbformat": 4,
 "nbformat_minor": 5
}
