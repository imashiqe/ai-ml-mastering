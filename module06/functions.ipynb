{
 "cells": [
  {
   "cell_type": "markdown",
   "id": "6a22f9df",
   "metadata": {},
   "source": [
    "### Functions"
   ]
  },
  {
   "cell_type": "code",
   "execution_count": null,
   "id": "fd8eabf2",
   "metadata": {},
   "outputs": [
    {
     "name": "stdout",
     "output_type": "stream",
     "text": [
      "Hello\n"
     ]
    }
   ],
   "source": [
    "def greet():\n",
    "    print(\"Hello\")\n",
    "\n",
    "greet()"
   ]
  },
  {
   "cell_type": "markdown",
   "id": "6f699051",
   "metadata": {},
   "source": [
    "function parameters (Input)"
   ]
  },
  {
   "cell_type": "code",
   "execution_count": 4,
   "id": "7b801f66",
   "metadata": {},
   "outputs": [
    {
     "name": "stdout",
     "output_type": "stream",
     "text": [
      "hello Ashiq\n"
     ]
    }
   ],
   "source": [
    "def greet(User):\n",
    "    print(f\"hello {User}\")\n",
    "\n",
    "\n",
    "greet(\"Ashiq\")"
   ]
  },
  {
   "cell_type": "code",
   "execution_count": 18,
   "id": "e43677c5",
   "metadata": {},
   "outputs": [
    {
     "name": "stdout",
     "output_type": "stream",
     "text": [
      "20 30 40\n",
      "1350\n"
     ]
    }
   ],
   "source": [
    "def square_addition(a,b,c):\n",
    "    print(f\"{a} {b} {c}\")\n",
    "    a=a**2\n",
    "    b=b**2\n",
    "    return a+b+c\n",
    "\n",
    "ans = square_addition(20,30,40) + 10\n",
    "print(ans)\n"
   ]
  },
  {
   "cell_type": "code",
   "execution_count": 21,
   "id": "60ed8ecd",
   "metadata": {},
   "outputs": [],
   "source": [
    "def square_addition(*args):\n",
    "    summation=0\n",
    "    for i in args:\n",
    "        i = i**2\n",
    "        summation+=i\n",
    "    return summation"
   ]
  },
  {
   "cell_type": "code",
   "execution_count": 22,
   "id": "e1a01ad6",
   "metadata": {},
   "outputs": [
    {
     "name": "stdout",
     "output_type": "stream",
     "text": [
      "5500\n"
     ]
    }
   ],
   "source": [
    "ans = square_addition(10,20,30,40,50)\n",
    "print(ans)"
   ]
  },
  {
   "cell_type": "code",
   "execution_count": 27,
   "id": "dadefc7d",
   "metadata": {},
   "outputs": [],
   "source": [
    "def student(**KWargs):\n",
    "   for key,val in KWargs.items():\n",
    "       print(f\"{key} : {val}\")"
   ]
  },
  {
   "cell_type": "code",
   "execution_count": 28,
   "id": "6ec9dd5f",
   "metadata": {},
   "outputs": [
    {
     "name": "stdout",
     "output_type": "stream",
     "text": [
      "name : Ashiqe\n",
      "cls : 10\n",
      "roll : 26\n",
      "marks : 30.5\n"
     ]
    }
   ],
   "source": [
    "student(name=\"Ashiqe\", cls=10, roll=26 , marks= 30.5)"
   ]
  },
  {
   "cell_type": "markdown",
   "id": "e67a4420",
   "metadata": {},
   "source": [
    "### float"
   ]
  },
  {
   "cell_type": "code",
   "execution_count": null,
   "id": "ce10ed92",
   "metadata": {},
   "outputs": [
    {
     "data": {
      "text/plain": [
       "str"
      ]
     },
     "execution_count": 29,
     "metadata": {},
     "output_type": "execute_result"
    }
   ],
   "source": [
    "def give_prediction():\n",
    "    return \"name\"\n",
    "type(give_prediction())\n",
    "\n",
    "print(give_prediction())"
   ]
  },
  {
   "cell_type": "code",
   "execution_count": 4,
   "id": "0b3d8997",
   "metadata": {},
   "outputs": [
    {
     "name": "stdout",
     "output_type": "stream",
     "text": [
      "name\n"
     ]
    }
   ],
   "source": [
    "def give_prediction():\n",
    "    return \"name\"\n",
    "\n",
    "type(give_prediction())\n",
    "\n",
    "print(give_prediction())\n",
    "\n",
    "## unpacking\n",
    "\n"
   ]
  },
  {
   "cell_type": "code",
   "execution_count": 10,
   "id": "cdf7bd8b",
   "metadata": {},
   "outputs": [],
   "source": [
    "def give_prediction():\n",
    "    return {\"name\" : \"ashiqe\", \"age\" : 15, \"cls\" : 10}\n",
    "\n",
    "\n",
    "\n",
    "\n",
    "name, age, cls = give_prediction().values()"
   ]
  },
  {
   "cell_type": "markdown",
   "id": "d31dab41",
   "metadata": {},
   "source": [
    "### generator"
   ]
  },
  {
   "cell_type": "code",
   "execution_count": 13,
   "id": "d47b908e",
   "metadata": {},
   "outputs": [
    {
     "name": "stdout",
     "output_type": "stream",
     "text": [
      "50\n",
      "20\n",
      "40\n",
      "50\n",
      "20\n",
      "40\n",
      "10\n",
      "30\n"
     ]
    }
   ],
   "source": [
    "s = {10,20,30,40,50}\n",
    "\n",
    "s_iter = iter(s)\n",
    "print(next(s_iter))\n",
    "print(next(s_iter))\n",
    "print(next(s_iter))\n",
    "\n",
    "\n",
    "for i in s:\n",
    "    print(i)"
   ]
  },
  {
   "cell_type": "code",
   "execution_count": 16,
   "id": "5ab5389a",
   "metadata": {},
   "outputs": [
    {
     "name": "stdout",
     "output_type": "stream",
     "text": [
      "[0, 1, 2, 3, 4, 5, 6, 7, 8, 9, 10, 11, 12, 13, 14, 15, 16, 17, 18, 19, 20, 21, 22, 23, 24, 25, 26, 27, 28, 29, 30, 31, 32, 33, 34, 35, 36, 37, 38, 39, 40, 41, 42, 43, 44, 45, 46, 47, 48, 49, 50, 51, 52, 53, 54, 55, 56, 57, 58, 59, 60, 61, 62, 63, 64, 65, 66, 67, 68, 69, 70, 71, 72, 73, 74, 75, 76, 77, 78, 79, 80, 81, 82, 83, 84, 85, 86, 87, 88, 89, 90, 91, 92, 93, 94, 95, 96, 97, 98, 99, 100, 101, 102, 103, 104, 105, 106, 107, 108, 109, 110, 111, 112, 113, 114, 115, 116, 117, 118, 119, 120, 121, 122, 123, 124, 125, 126, 127, 128, 129, 130, 131, 132, 133, 134, 135, 136, 137, 138, 139, 140, 141, 142, 143, 144, 145, 146, 147, 148, 149, 150, 151, 152, 153, 154, 155, 156, 157, 158, 159, 160, 161, 162, 163, 164, 165, 166, 167, 168, 169, 170, 171, 172, 173, 174, 175, 176, 177, 178, 179, 180, 181, 182, 183, 184, 185, 186, 187, 188, 189, 190, 191, 192, 193, 194, 195, 196, 197, 198, 199, 200, 201, 202, 203, 204, 205, 206, 207, 208, 209, 210, 211, 212, 213, 214, 215, 216, 217, 218, 219, 220, 221, 222, 223, 224, 225, 226, 227, 228, 229, 230, 231, 232, 233, 234, 235, 236, 237, 238, 239, 240, 241, 242, 243, 244, 245, 246, 247, 248, 249, 250, 251, 252, 253, 254, 255, 256, 257, 258, 259, 260, 261, 262, 263, 264, 265, 266, 267, 268, 269, 270, 271, 272, 273, 274, 275, 276, 277, 278, 279, 280, 281, 282, 283, 284, 285, 286, 287, 288, 289, 290, 291, 292, 293, 294, 295, 296, 297, 298, 299, 300, 301, 302, 303, 304, 305, 306, 307, 308, 309, 310, 311, 312, 313, 314, 315, 316, 317, 318, 319, 320, 321, 322, 323, 324, 325, 326, 327, 328, 329, 330, 331, 332, 333, 334, 335, 336, 337, 338, 339, 340, 341, 342, 343, 344, 345, 346, 347, 348, 349, 350, 351, 352, 353, 354, 355, 356, 357, 358, 359, 360, 361, 362, 363, 364, 365, 366, 367, 368, 369, 370, 371, 372, 373, 374, 375, 376, 377, 378, 379, 380, 381, 382, 383, 384, 385, 386, 387, 388, 389, 390, 391, 392, 393, 394, 395, 396, 397, 398, 399, 400, 401, 402, 403, 404, 405, 406, 407, 408, 409, 410, 411, 412, 413, 414, 415, 416, 417, 418, 419, 420, 421, 422, 423, 424, 425, 426, 427, 428, 429, 430, 431, 432, 433, 434, 435, 436, 437, 438, 439, 440, 441, 442, 443, 444, 445, 446, 447, 448, 449, 450, 451, 452, 453, 454, 455, 456, 457, 458, 459, 460, 461, 462, 463, 464, 465, 466, 467, 468, 469, 470, 471, 472, 473, 474, 475, 476, 477, 478, 479, 480, 481, 482, 483, 484, 485, 486, 487, 488, 489, 490, 491, 492, 493, 494, 495, 496, 497, 498, 499]\n"
     ]
    }
   ],
   "source": [
    "lst = [x for x in range(500)] # dataset\n",
    "\n",
    "print(lst)\n",
    "\n",
    "def data_loader(chunk_size):\n",
    "    for i in range(0, len(lst), chunk_size):\n",
    "        yield lst[i:i+chunk_size]\n",
    "\n",
    "        x = data_loader(5,lst)\n",
    "        print(next(x))"
   ]
  }
 ],
 "metadata": {
  "kernelspec": {
   "display_name": "Python 3",
   "language": "python",
   "name": "python3"
  },
  "language_info": {
   "codemirror_mode": {
    "name": "ipython",
    "version": 3
   },
   "file_extension": ".py",
   "mimetype": "text/x-python",
   "name": "python",
   "nbconvert_exporter": "python",
   "pygments_lexer": "ipython3",
   "version": "3.13.0"
  }
 },
 "nbformat": 4,
 "nbformat_minor": 5
}
