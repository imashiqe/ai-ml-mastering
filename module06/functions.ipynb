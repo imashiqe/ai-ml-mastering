{
 "cells": [
  {
   "cell_type": "markdown",
   "id": "6a22f9df",
   "metadata": {},
   "source": [
    "### Functions"
   ]
  },
  {
   "cell_type": "code",
   "execution_count": null,
   "id": "fd8eabf2",
   "metadata": {},
   "outputs": [
    {
     "name": "stdout",
     "output_type": "stream",
     "text": [
      "Hello\n"
     ]
    }
   ],
   "source": [
    "def greet():\n",
    "    print(\"Hello\")\n",
    "\n",
    "greet()"
   ]
  },
  {
   "cell_type": "markdown",
   "id": "6f699051",
   "metadata": {},
   "source": [
    "function parameters (Input)"
   ]
  },
  {
   "cell_type": "code",
   "execution_count": 4,
   "id": "7b801f66",
   "metadata": {},
   "outputs": [
    {
     "name": "stdout",
     "output_type": "stream",
     "text": [
      "hello Ashiq\n"
     ]
    }
   ],
   "source": [
    "def greet(User):\n",
    "    print(f\"hello {User}\")\n",
    "\n",
    "\n",
    "greet(\"Ashiq\")"
   ]
  },
  {
   "cell_type": "code",
   "execution_count": 18,
   "id": "e43677c5",
   "metadata": {},
   "outputs": [
    {
     "name": "stdout",
     "output_type": "stream",
     "text": [
      "20 30 40\n",
      "1350\n"
     ]
    }
   ],
   "source": [
    "def square_addition(a,b,c):\n",
    "    print(f\"{a} {b} {c}\")\n",
    "    a=a**2\n",
    "    b=b**2\n",
    "    return a+b+c\n",
    "\n",
    "ans = square_addition(20,30,40) + 10\n",
    "print(ans)\n"
   ]
  },
  {
   "cell_type": "code",
   "execution_count": 21,
   "id": "60ed8ecd",
   "metadata": {},
   "outputs": [],
   "source": [
    "def square_addition(*args):\n",
    "    summation=0\n",
    "    for i in args:\n",
    "        i = i**2\n",
    "        summation+=i\n",
    "    return summation"
   ]
  },
  {
   "cell_type": "code",
   "execution_count": 22,
   "id": "e1a01ad6",
   "metadata": {},
   "outputs": [
    {
     "name": "stdout",
     "output_type": "stream",
     "text": [
      "5500\n"
     ]
    }
   ],
   "source": [
    "ans = square_addition(10,20,30,40,50)\n",
    "print(ans)"
   ]
  },
  {
   "cell_type": "code",
   "execution_count": 27,
   "id": "dadefc7d",
   "metadata": {},
   "outputs": [],
   "source": [
    "def student(**KWargs):\n",
    "   for key,val in KWargs.items():\n",
    "       print(f\"{key} : {val}\")"
   ]
  },
  {
   "cell_type": "code",
   "execution_count": 28,
   "id": "6ec9dd5f",
   "metadata": {},
   "outputs": [
    {
     "name": "stdout",
     "output_type": "stream",
     "text": [
      "name : Ashiqe\n",
      "cls : 10\n",
      "roll : 26\n",
      "marks : 30.5\n"
     ]
    }
   ],
   "source": [
    "student(name=\"Ashiqe\", cls=10, roll=26 , marks= 30.5)"
   ]
  },
  {
   "cell_type": "markdown",
   "id": "e67a4420",
   "metadata": {},
   "source": [
    "### float"
   ]
  },
  {
   "cell_type": "code",
   "execution_count": null,
   "id": "ce10ed92",
   "metadata": {},
   "outputs": [
    {
     "data": {
      "text/plain": [
       "str"
      ]
     },
     "execution_count": 29,
     "metadata": {},
     "output_type": "execute_result"
    }
   ],
   "source": [
    "def give_prediction():\n",
    "    return \"name\"\n",
    "type(give_prediction())\n",
    "\n",
    "print(give_prediction())"
   ]
  },
  {
   "cell_type": "code",
   "execution_count": 4,
   "id": "0b3d8997",
   "metadata": {},
   "outputs": [
    {
     "name": "stdout",
     "output_type": "stream",
     "text": [
      "name\n"
     ]
    }
   ],
   "source": [
    "def give_prediction():\n",
    "    return \"name\"\n",
    "\n",
    "type(give_prediction())\n",
    "\n",
    "print(give_prediction())\n",
    "\n",
    "## unpacking\n",
    "\n"
   ]
  },
  {
   "cell_type": "code",
   "execution_count": null,
   "id": "cdf7bd8b",
   "metadata": {},
   "outputs": [
    {
     "ename": "NameError",
     "evalue": "name 'x' is not defined",
     "output_type": "error",
     "traceback": [
      "\u001b[31m---------------------------------------------------------------------------\u001b[39m",
      "\u001b[31mNameError\u001b[39m                                 Traceback (most recent call last)",
      "\u001b[36mCell\u001b[39m\u001b[36m \u001b[39m\u001b[32mIn[9]\u001b[39m\u001b[32m, line 7\u001b[39m\n\u001b[32m      1\u001b[39m \u001b[38;5;28;01mdef\u001b[39;00m\u001b[38;5;250m \u001b[39m\u001b[34mgive_prediction\u001b[39m():\n\u001b[32m      2\u001b[39m     \u001b[38;5;28;01mreturn\u001b[39;00m {\u001b[33m\"\u001b[39m\u001b[33mname\u001b[39m\u001b[33m\"\u001b[39m : \u001b[33m\"\u001b[39m\u001b[33mashiqe\u001b[39m\u001b[33m\"\u001b[39m, \u001b[33m\"\u001b[39m\u001b[33mage\u001b[39m\u001b[33m\"\u001b[39m : \u001b[32m15\u001b[39m, \u001b[33m\"\u001b[39m\u001b[33mcls\u001b[39m\u001b[33m\"\u001b[39m : \u001b[32m10\u001b[39m}\n\u001b[32m----> \u001b[39m\u001b[32m7\u001b[39m \u001b[38;5;28;01mfor\u001b[39;00m item \u001b[38;5;129;01min\u001b[39;00m \u001b[43mx\u001b[49m.items():\n\u001b[32m      8\u001b[39m     \u001b[38;5;28mprint\u001b[39m(item)\n",
      "\u001b[31mNameError\u001b[39m: name 'x' is not defined"
     ]
    }
   ],
   "source": [
    "def give_prediction():\n",
    "    return {\"name\" : \"ashiqe\", \"age\" : 15, \"cls\" : 10}\n",
    "\n",
    "\n",
    "\n",
    "\n"
   ]
  }
 ],
 "metadata": {
  "kernelspec": {
   "display_name": "Python 3",
   "language": "python",
   "name": "python3"
  },
  "language_info": {
   "codemirror_mode": {
    "name": "ipython",
    "version": 3
   },
   "file_extension": ".py",
   "mimetype": "text/x-python",
   "name": "python",
   "nbconvert_exporter": "python",
   "pygments_lexer": "ipython3",
   "version": "3.13.0"
  }
 },
 "nbformat": 4,
 "nbformat_minor": 5
}
