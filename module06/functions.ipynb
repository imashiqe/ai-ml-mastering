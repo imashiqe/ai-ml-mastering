{
 "cells": [
  {
   "cell_type": "markdown",
   "id": "6a22f9df",
   "metadata": {},
   "source": [
    "### Functions"
   ]
  },
  {
   "cell_type": "code",
   "execution_count": 1,
   "id": "ca223e69",
   "metadata": {},
   "outputs": [
    {
     "name": "stdout",
     "output_type": "stream",
     "text": [
      "Hello\n"
     ]
    }
   ],
   "source": [
    "def greet():\n",
    "    print(\"Hello\")\n",
    "\n",
    "greet()"
   ]
  },
  {
   "cell_type": "markdown",
   "id": "6f699051",
   "metadata": {},
   "source": [
    "function parameters (Input)"
   ]
  },
  {
   "cell_type": "code",
   "execution_count": 4,
   "id": "7b801f66",
   "metadata": {},
   "outputs": [
    {
     "name": "stdout",
     "output_type": "stream",
     "text": [
      "hello Ashiq\n"
     ]
    }
   ],
   "source": [
    "def greet(User):\n",
    "    print(f\"hello {User}\")\n",
    "\n",
    "\n",
    "greet(\"Ashiq\")"
   ]
  },
  {
   "cell_type": "code",
   "execution_count": 18,
   "id": "e43677c5",
   "metadata": {},
   "outputs": [
    {
     "name": "stdout",
     "output_type": "stream",
     "text": [
      "20 30 40\n",
      "1350\n"
     ]
    }
   ],
   "source": [
    "def square_addition(a,b,c):\n",
    "    print(f\"{a} {b} {c}\")\n",
    "    a=a**2\n",
    "    b=b**2\n",
    "    return a+b+c\n",
    "\n",
    "ans = square_addition(20,30,40) + 10\n",
    "print(ans)\n"
   ]
  },
  {
   "cell_type": "code",
   "execution_count": 21,
   "id": "60ed8ecd",
   "metadata": {},
   "outputs": [],
   "source": [
    "def square_addition(*args):\n",
    "    summation=0\n",
    "    for i in args:\n",
    "        i = i**2\n",
    "        summation+=i\n",
    "    return summation"
   ]
  },
  {
   "cell_type": "code",
   "execution_count": 22,
   "id": "e1a01ad6",
   "metadata": {},
   "outputs": [
    {
     "name": "stdout",
     "output_type": "stream",
     "text": [
      "5500\n"
     ]
    }
   ],
   "source": [
    "ans = square_addition(10,20,30,40,50)\n",
    "print(ans)"
   ]
  },
  {
   "cell_type": "code",
   "execution_count": 27,
   "id": "dadefc7d",
   "metadata": {},
   "outputs": [],
   "source": [
    "def student(**KWargs):\n",
    "   for key,val in KWargs.items():\n",
    "       print(f\"{key} : {val}\")"
   ]
  },
  {
   "cell_type": "code",
   "execution_count": 28,
   "id": "6ec9dd5f",
   "metadata": {},
   "outputs": [
    {
     "name": "stdout",
     "output_type": "stream",
     "text": [
      "name : Ashiqe\n",
      "cls : 10\n",
      "roll : 26\n",
      "marks : 30.5\n"
     ]
    }
   ],
   "source": [
    "student(name=\"Ashiqe\", cls=10, roll=26 , marks= 30.5)"
   ]
  },
  {
   "cell_type": "markdown",
   "id": "e67a4420",
   "metadata": {},
   "source": [
    "### float"
   ]
  },
  {
   "cell_type": "code",
   "execution_count": 1,
   "id": "ce10ed92",
   "metadata": {},
   "outputs": [
    {
     "name": "stdout",
     "output_type": "stream",
     "text": [
      "(10, 20)\n"
     ]
    }
   ],
   "source": [
    "def give_prediction():\n",
    "    return 10,20\n",
    "type(give_prediction())\n",
    "\n",
    "print(give_prediction())"
   ]
  }
 ],
 "metadata": {
  "kernelspec": {
   "display_name": "Python 3",
   "language": "python",
   "name": "python3"
  },
  "language_info": {
   "codemirror_mode": {
    "name": "ipython",
    "version": 3
   },
   "file_extension": ".py",
   "mimetype": "text/x-python",
   "name": "python",
   "nbconvert_exporter": "python",
   "pygments_lexer": "ipython3",
   "version": "3.13.7"
  }
 },
 "nbformat": 4,
 "nbformat_minor": 5
}
