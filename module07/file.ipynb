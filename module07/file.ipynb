{
 "cells": [
  {
   "cell_type": "markdown",
   "id": "a07fcb86",
   "metadata": {},
   "source": [
    "## File"
   ]
  },
  {
   "cell_type": "code",
   "execution_count": 11,
   "id": "709d3a6d",
   "metadata": {},
   "outputs": [
    {
     "name": "stdout",
     "output_type": "stream",
     "text": [
      "hello\n",
      "True\n"
     ]
    }
   ],
   "source": [
    "file = open (\"sample.txt\", \"r\")\n",
    "content = file.read()\n",
    "print(content)\n",
    "\n",
    "\n",
    "\n",
    "file.close()\n",
    "print(file.closed)"
   ]
  },
  {
   "cell_type": "code",
   "execution_count": 14,
   "id": "0786c27a",
   "metadata": {},
   "outputs": [
    {
     "name": "stdout",
     "output_type": "stream",
     "text": [
      "['hello']\n",
      "False\n"
     ]
    }
   ],
   "source": [
    "with open(\"sample.txt\", \"r\") as file:\n",
    "    content = file.readlines()\n",
    "    print(content)\n",
    "    print(file.closed)"
   ]
  },
  {
   "cell_type": "code",
   "execution_count": 16,
   "id": "a467ac25",
   "metadata": {},
   "outputs": [
    {
     "name": "stdout",
     "output_type": "stream",
     "text": [
      "hello\n",
      "\n",
      "fahim\n",
      "\n",
      "ashiqe\n"
     ]
    }
   ],
   "source": [
    "with open(\"sample.txt\", \"r\") as file:\n",
    "    for line in file:\n",
    "        print(line)"
   ]
  },
  {
   "cell_type": "markdown",
   "id": "108c5e46",
   "metadata": {},
   "source": [
    "## File Write"
   ]
  },
  {
   "cell_type": "code",
   "execution_count": 21,
   "id": "25f15565",
   "metadata": {},
   "outputs": [
    {
     "name": "stdout",
     "output_type": "stream",
     "text": [
      "19\n",
      "False\n"
     ]
    }
   ],
   "source": [
    "with  open(\"./sample.py\", \"w\") as file:\n",
    "    content = file.write(\"Hello, World!\")\n",
    "    content = file.write(\"This is a new line.\")\n",
    "    print(content)\n",
    "    print(file.closed)"
   ]
  },
  {
   "cell_type": "code",
   "execution_count": 2,
   "id": "6b421f82",
   "metadata": {},
   "outputs": [
    {
     "name": "stdout",
     "output_type": "stream",
     "text": [
      "0\n",
      "Hello\n",
      "5\n",
      "0\n",
      "Hello\n"
     ]
    }
   ],
   "source": [
    "#seek\n",
    "\n",
    "with open(\"sample.py\", \"r\") as file:\n",
    "    print(file.tell())\n",
    "    print(file.read(5))\n",
    "    print(file.tell())\n",
    "    file.seek(0)\n",
    "    print(file.tell())\n",
    "    print(file.read(5))\n",
    "\n"
   ]
  },
  {
   "cell_type": "code",
   "execution_count": null,
   "id": "da5da0ed",
   "metadata": {},
   "outputs": [],
   "source": [
    "with open(\"sample.py\", \"a\") as file:"
   ]
  },
  {
   "cell_type": "markdown",
   "id": "d39d7d85",
   "metadata": {},
   "source": [
    "###Practice 1 :\n",
    "Get the text from sample.txt , and count the following\n",
    "\n",
    "Number of lines\n",
    "\n",
    "Number of words\n",
    "\n",
    "Number of characters\n",
    "\n",
    "and save it to the counter_of_string.txt file"
   ]
  },
  {
   "cell_type": "code",
   "execution_count": null,
   "id": "de69dbbf",
   "metadata": {},
   "outputs": [
    {
     "ename": "FileNotFoundError",
     "evalue": "[Errno 2] No such file or directory: './sample_data/counter_of_string.txt'",
     "output_type": "error",
     "traceback": [
      "\u001b[31m---------------------------------------------------------------------------\u001b[39m",
      "\u001b[31mFileNotFoundError\u001b[39m                         Traceback (most recent call last)",
      "\u001b[36mCell\u001b[39m\u001b[36m \u001b[39m\u001b[32mIn[8]\u001b[39m\u001b[32m, line 32\u001b[39m\n\u001b[32m     27\u001b[39m   \u001b[38;5;66;03m# total character\u001b[39;00m\n\u001b[32m     28\u001b[39m   total_number_of_characters = reduce(\u001b[38;5;28;01mlambda\u001b[39;00m x,y : x+y ,number_of_character)\n\u001b[32m---> \u001b[39m\u001b[32m32\u001b[39m \u001b[38;5;28;01mwith\u001b[39;00m \u001b[38;5;28;43mopen\u001b[39;49m\u001b[43m(\u001b[49m\u001b[33;43m\"\u001b[39;49m\u001b[33;43m./sample_data/counter_of_string.txt\u001b[39;49m\u001b[33;43m\"\u001b[39;49m\u001b[43m,\u001b[49m\u001b[33;43m\"\u001b[39;49m\u001b[33;43mw\u001b[39;49m\u001b[33;43m\"\u001b[39;49m\u001b[43m)\u001b[49m \u001b[38;5;28;01mas\u001b[39;00m file:\n\u001b[32m     33\u001b[39m   file.write(\u001b[33mf\u001b[39m\u001b[33m\"\u001b[39m\u001b[33mtotal line: \u001b[39m\u001b[38;5;132;01m{\u001b[39;00mtotal_lines\u001b[38;5;132;01m}\u001b[39;00m\u001b[38;5;130;01m\\n\u001b[39;00m\u001b[33mtotal number of words:\u001b[39m\u001b[38;5;132;01m{\u001b[39;00mtotal_number_of_words\u001b[38;5;132;01m}\u001b[39;00m\u001b[38;5;130;01m\\n\u001b[39;00m\u001b[33mtotal number of char: \u001b[39m\u001b[38;5;132;01m{\u001b[39;00mtotal_number_of_characters\u001b[38;5;132;01m}\u001b[39;00m\u001b[33m\"\u001b[39m)\n",
      "\u001b[36mFile \u001b[39m\u001b[32m~\\AppData\\Roaming\\Python\\Python313\\site-packages\\IPython\\core\\interactiveshell.py:343\u001b[39m, in \u001b[36m_modified_open\u001b[39m\u001b[34m(file, *args, **kwargs)\u001b[39m\n\u001b[32m    336\u001b[39m \u001b[38;5;28;01mif\u001b[39;00m file \u001b[38;5;129;01min\u001b[39;00m {\u001b[32m0\u001b[39m, \u001b[32m1\u001b[39m, \u001b[32m2\u001b[39m}:\n\u001b[32m    337\u001b[39m     \u001b[38;5;28;01mraise\u001b[39;00m \u001b[38;5;167;01mValueError\u001b[39;00m(\n\u001b[32m    338\u001b[39m         \u001b[33mf\u001b[39m\u001b[33m\"\u001b[39m\u001b[33mIPython won\u001b[39m\u001b[33m'\u001b[39m\u001b[33mt let you open fd=\u001b[39m\u001b[38;5;132;01m{\u001b[39;00mfile\u001b[38;5;132;01m}\u001b[39;00m\u001b[33m by default \u001b[39m\u001b[33m\"\u001b[39m\n\u001b[32m    339\u001b[39m         \u001b[33m\"\u001b[39m\u001b[33mas it is likely to crash IPython. If you know what you are doing, \u001b[39m\u001b[33m\"\u001b[39m\n\u001b[32m    340\u001b[39m         \u001b[33m\"\u001b[39m\u001b[33myou can use builtins\u001b[39m\u001b[33m'\u001b[39m\u001b[33m open.\u001b[39m\u001b[33m\"\u001b[39m\n\u001b[32m    341\u001b[39m     )\n\u001b[32m--> \u001b[39m\u001b[32m343\u001b[39m \u001b[38;5;28;01mreturn\u001b[39;00m \u001b[43mio_open\u001b[49m\u001b[43m(\u001b[49m\u001b[43mfile\u001b[49m\u001b[43m,\u001b[49m\u001b[43m \u001b[49m\u001b[43m*\u001b[49m\u001b[43margs\u001b[49m\u001b[43m,\u001b[49m\u001b[43m \u001b[49m\u001b[43m*\u001b[49m\u001b[43m*\u001b[49m\u001b[43mkwargs\u001b[49m\u001b[43m)\u001b[49m\n",
      "\u001b[31mFileNotFoundError\u001b[39m: [Errno 2] No such file or directory: './sample_data/counter_of_string.txt'"
     ]
    }
   ],
   "source": [
    "from functools import reduce\n",
    "\n",
    "with open(\"sample.txt\",\"r\") as file:\n",
    "  string_list = file.readlines()\n",
    "\n",
    "  # total line koita\n",
    "  total_lines = len(string_list)\n",
    "\n",
    "  # word ber korbo\n",
    "  number_of_words = list(map(lambda x : len(x.split()),string_list))\n",
    "  #total words\n",
    "  total_number_of_words = reduce(lambda x,y : x+y ,number_of_words)\n",
    "\n",
    "  #cleaning process\n",
    "\n",
    "  # 1. new line delete\n",
    "  string_list = list(map(str.strip,string_list))\n",
    "\n",
    "  #2. space delete\n",
    "\n",
    "  string_list = list(map(lambda x : x.replace(\" \",\"\"),string_list))\n",
    "\n",
    "  # koita character\n",
    "\n",
    "  number_of_character = list(map(lambda x : len(x),string_list))\n",
    "\n",
    "  # total character\n",
    "  total_number_of_characters = reduce(lambda x,y : x+y ,number_of_character)\n",
    "\n",
    "\n",
    "\n",
    "with open(\"counter_of_string.txt\",\"w\") as file:\n",
    "  file.write(f\"total line: {total_lines}\\ntotal number of words:{total_number_of_words}\\ntotal number of char: {total_number_of_characters}\")\n"
   ]
  }
 ],
 "metadata": {
  "kernelspec": {
   "display_name": "Python 3",
   "language": "python",
   "name": "python3"
  },
  "language_info": {
   "codemirror_mode": {
    "name": "ipython",
    "version": 3
   },
   "file_extension": ".py",
   "mimetype": "text/x-python",
   "name": "python",
   "nbconvert_exporter": "python",
   "pygments_lexer": "ipython3",
   "version": "3.13.7"
  }
 },
 "nbformat": 4,
 "nbformat_minor": 5
}
