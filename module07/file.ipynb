{
 "cells": [
  {
   "cell_type": "markdown",
   "id": "a07fcb86",
   "metadata": {},
   "source": [
    "## File"
   ]
  },
  {
   "cell_type": "code",
   "execution_count": 11,
   "id": "709d3a6d",
   "metadata": {},
   "outputs": [
    {
     "name": "stdout",
     "output_type": "stream",
     "text": [
      "hello\n",
      "True\n"
     ]
    }
   ],
   "source": [
    "file = open (\"sample.txt\", \"r\")\n",
    "content = file.read()\n",
    "print(content)\n",
    "\n",
    "\n",
    "\n",
    "file.close()\n",
    "print(file.closed)"
   ]
  },
  {
   "cell_type": "code",
   "execution_count": 14,
   "id": "0786c27a",
   "metadata": {},
   "outputs": [
    {
     "name": "stdout",
     "output_type": "stream",
     "text": [
      "['hello']\n",
      "False\n"
     ]
    }
   ],
   "source": [
    "with open(\"sample.txt\", \"r\") as file:\n",
    "    content = file.readlines()\n",
    "    print(content)\n",
    "    print(file.closed)"
   ]
  },
  {
   "cell_type": "code",
   "execution_count": 16,
   "id": "a467ac25",
   "metadata": {},
   "outputs": [
    {
     "name": "stdout",
     "output_type": "stream",
     "text": [
      "hello\n",
      "\n",
      "fahim\n",
      "\n",
      "ashiqe\n"
     ]
    }
   ],
   "source": [
    "with open(\"sample.txt\", \"r\") as file:\n",
    "    for line in file:\n",
    "        print(line)"
   ]
  },
  {
   "cell_type": "markdown",
   "id": "108c5e46",
   "metadata": {},
   "source": [
    "## File Write"
   ]
  },
  {
   "cell_type": "code",
   "execution_count": 21,
   "id": "25f15565",
   "metadata": {},
   "outputs": [
    {
     "name": "stdout",
     "output_type": "stream",
     "text": [
      "19\n",
      "False\n"
     ]
    }
   ],
   "source": [
    "with  open(\"./sample.py\", \"w\") as file:\n",
    "    content = file.write(\"Hello, World!\")\n",
    "    content = file.write(\"This is a new line.\")\n",
    "    print(content)\n",
    "    print(file.closed)"
   ]
  },
  {
   "cell_type": "code",
   "execution_count": 2,
   "id": "6b421f82",
   "metadata": {},
   "outputs": [
    {
     "name": "stdout",
     "output_type": "stream",
     "text": [
      "0\n",
      "Hello\n",
      "5\n",
      "0\n",
      "Hello\n"
     ]
    }
   ],
   "source": [
    "#seek\n",
    "\n",
    "with open(\"sample.py\", \"r\") as file:\n",
    "    print(file.tell())\n",
    "    print(file.read(5))\n",
    "    print(file.tell())\n",
    "    file.seek(0)\n",
    "    print(file.tell())\n",
    "    print(file.read(5))\n",
    "\n"
   ]
  },
  {
   "cell_type": "code",
   "execution_count": null,
   "id": "da5da0ed",
   "metadata": {},
   "outputs": [],
   "source": [
    "with open(\"sample.py\", \"a\") as file:"
   ]
  },
  {
   "cell_type": "markdown",
   "id": "d39d7d85",
   "metadata": {},
   "source": [
    "###Practice 1 :\n",
    "Get the text from sample.txt , and count the following\n",
    "\n",
    "Number of lines\n",
    "\n",
    "Number of words\n",
    "\n",
    "Number of characters\n",
    "\n",
    "and save it to the counter_of_string.txt file"
   ]
  },
  {
   "cell_type": "code",
   "execution_count": 9,
   "id": "de69dbbf",
   "metadata": {},
   "outputs": [],
   "source": [
    "from functools import reduce\n",
    "\n",
    "with open(\"sample.txt\",\"r\") as file:\n",
    "  string_list = file.readlines()\n",
    "\n",
    "  # total line koita\n",
    "  total_lines = len(string_list)\n",
    "\n",
    "  # word ber korbo\n",
    "  number_of_words = list(map(lambda x : len(x.split()),string_list))\n",
    "  #total words\n",
    "  total_number_of_words = reduce(lambda x,y : x+y ,number_of_words)\n",
    "\n",
    "  #cleaning process\n",
    "\n",
    "  # 1. new line delete\n",
    "  string_list = list(map(str.strip,string_list))\n",
    "\n",
    "  #2. space delete\n",
    "\n",
    "  string_list = list(map(lambda x : x.replace(\" \",\"\"),string_list))\n",
    "\n",
    "  # koita character\n",
    "\n",
    "  number_of_character = list(map(lambda x : len(x),string_list))\n",
    "\n",
    "  # total character\n",
    "  total_number_of_characters = reduce(lambda x,y : x+y ,number_of_character)\n",
    "\n",
    "\n",
    "\n",
    "with open(\"counter_of_string.txt\",\"w\") as file:\n",
    "  file.write(f\"total line: {total_lines}\\ntotal number of words:{total_number_of_words}\\ntotal number of char: {total_number_of_characters}\")\n"
   ]
  },
  {
   "cell_type": "markdown",
   "id": "e727d126",
   "metadata": {},
   "source": [
    "# Exception Handling"
   ]
  },
  {
   "cell_type": "code",
   "execution_count": null,
   "id": "eb79bb19",
   "metadata": {},
   "outputs": [],
   "source": [
    "n = int(input())\n",
    "\n",
    "try:\n",
    "  a = 10/0\n",
    "except ZeroDivisionError:\n",
    "  print(\"you cant divide a number by 0\")\n",
    "\n",
    "print(\"hello world\")"
   ]
  },
  {
   "cell_type": "code",
   "execution_count": null,
   "id": "3e31bdd9",
   "metadata": {},
   "outputs": [],
   "source": [
    "try:\n",
    "  x = y\n",
    "except ZeroDivisionError:\n",
    "  print(\"you cant divide a number by 0\")\n",
    "except Exception as e:\n",
    "  print(e)\n",
    "\n",
    "\n",
    "print(\"hello world\")c"
   ]
  },
  {
   "cell_type": "code",
   "execution_count": null,
   "id": "4f446c61",
   "metadata": {},
   "outputs": [],
   "source": [
    "#model train\n",
    "\n",
    "try:\n",
    "  file = open(\"./sample_data/data1.txt\",\"r\")\n",
    "except Exception as e:\n",
    "  print(e)\n",
    "else:\n",
    "  # model train\n",
    "  print(file.read())\n",
    "finally:\n",
    "  print(\"Gpu is stopped\")"
   ]
  }
 ],
 "metadata": {
  "kernelspec": {
   "display_name": "Python 3",
   "language": "python",
   "name": "python3"
  },
  "language_info": {
   "codemirror_mode": {
    "name": "ipython",
    "version": 3
   },
   "file_extension": ".py",
   "mimetype": "text/x-python",
   "name": "python",
   "nbconvert_exporter": "python",
   "pygments_lexer": "ipython3",
   "version": "3.13.7"
  }
 },
 "nbformat": 4,
 "nbformat_minor": 5
}
