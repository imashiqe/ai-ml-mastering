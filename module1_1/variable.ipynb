{
 "cells": [
  {
   "cell_type": "code",
   "execution_count": 2,
   "id": "82f7b6b0",
   "metadata": {},
   "outputs": [
    {
     "name": "stdout",
     "output_type": "stream",
     "text": [
      "456249\n"
     ]
    }
   ],
   "source": [
    "phone_number = 456249\n",
    "\n",
    "print(phone_number)"
   ]
  },
  {
   "cell_type": "code",
   "execution_count": 3,
   "id": "7d13d77b",
   "metadata": {},
   "outputs": [
    {
     "name": "stdout",
     "output_type": "stream",
     "text": [
      "Phitron\n"
     ]
    }
   ],
   "source": [
    "name = \"Phitron\"\n",
    "\n",
    "print(name)"
   ]
  },
  {
   "cell_type": "code",
   "execution_count": 4,
   "id": "7a171196",
   "metadata": {},
   "outputs": [
    {
     "name": "stdout",
     "output_type": "stream",
     "text": [
      "<class 'int'> <class 'float'> <class 'bool'>\n"
     ]
    }
   ],
   "source": [
    "age = 20\n",
    "height =5.6\n",
    "name = \"Akash\"\n",
    "\n",
    "is_passed = True\n",
    "\n",
    "print(type(age), type(height) , type(is_passed))"
   ]
  },
  {
   "cell_type": "markdown",
   "id": "5d5a7a91",
   "metadata": {},
   "source": [
    "##Taking Input In Python"
   ]
  },
  {
   "cell_type": "code",
   "execution_count": 5,
   "id": "2255b232",
   "metadata": {},
   "outputs": [
    {
     "name": "stdout",
     "output_type": "stream",
     "text": [
      "fahim\n"
     ]
    }
   ],
   "source": [
    "name = input(\"What is your name?\")\n",
    "\n",
    "print(name)"
   ]
  },
  {
   "cell_type": "code",
   "execution_count": null,
   "id": "b4d80c7b",
   "metadata": {},
   "outputs": [
    {
     "name": "stdout",
     "output_type": "stream",
     "text": [
      "24 <class 'str'>\n"
     ]
    }
   ],
   "source": [
    "age = input (\"Age ?\")\n",
    "print (age, type(age))"
   ]
  },
  {
   "cell_type": "code",
   "execution_count": 7,
   "id": "dac72caf",
   "metadata": {},
   "outputs": [
    {
     "name": "stdout",
     "output_type": "stream",
     "text": [
      "Sum: 15\n",
      "Sub: 5\n",
      "Mul: 50\n",
      "Div: 2.0\n",
      "Mod: 0\n"
     ]
    }
   ],
   "source": [
    "# operator\n",
    "\n",
    "x =10 ; y =5\n",
    "\n",
    "sum = x + y\n",
    "sub = x - y\n",
    "mul = x * y\n",
    "div = x / y\n",
    "mod = x % y\n",
    "print(\"Sum:\", sum)\n",
    "print(\"Sub:\", sub)\n",
    "print(\"Mul:\", mul)\n",
    "print(\"Div:\", div)\n",
    "print(\"Mod:\", mod)"
   ]
  },
  {
   "cell_type": "code",
   "execution_count": null,
   "id": "b4023c85",
   "metadata": {},
   "outputs": [
    {
     "name": "stdout",
     "output_type": "stream",
     "text": [
      "<class 'int'> <class 'int'>\n"
     ]
    }
   ],
   "source": [
    "x =10 ; y =5\n",
    "\n",
    "greater_than = x > y\n",
    "greater_than_equal = x >= y\n",
    "\n",
    "print(\"Greater than:\", greater_than)\n",
    "print(\"Greater than or equal:\", greater_than_equal)\n",
    "\n",
    "\n"
   ]
  },
  {
   "cell_type": "markdown",
   "id": "38b0127e",
   "metadata": {},
   "source": [
    "##Precedence of Operators"
   ]
  },
  {
   "cell_type": "code",
   "execution_count": null,
   "id": "ef15b09c",
   "metadata": {},
   "outputs": [],
   "source": []
  },
  {
   "cell_type": "code",
   "execution_count": 16,
   "id": "33fc8b86",
   "metadata": {},
   "outputs": [
    {
     "name": "stdout",
     "output_type": "stream",
     "text": [
      "5\n"
     ]
    }
   ],
   "source": [
    "# Problem : digit summation\n",
    "\n",
    "# x = int (input(\"Enter a number: \"))\n",
    "# y = int (input(\"Enter a number: \"))\n",
    "\n",
    "inp = input()\n",
    "numbers = inp.split()\n",
    "\n",
    "x =   int (numbers[0])\n",
    "y =  int (numbers[1])\n",
    "\n",
    "\n",
    "\n",
    "last_digit_x = x % 10\n",
    "last_digit_y = y % 10\n",
    "\n",
    "sum = last_digit_x + last_digit_y\n",
    "print(sum)"
   ]
  },
  {
   "cell_type": "code",
   "execution_count": 18,
   "id": "14d929e4",
   "metadata": {},
   "outputs": [
    {
     "name": "stdout",
     "output_type": "stream",
     "text": [
      "3.5\n"
     ]
    }
   ],
   "source": [
    "print(7/2)"
   ]
  },
  {
   "cell_type": "code",
   "execution_count": 19,
   "id": "a5baeb7a",
   "metadata": {},
   "outputs": [
    {
     "name": "stdout",
     "output_type": "stream",
     "text": [
      "<class 'float'>\n"
     ]
    }
   ],
   "source": [
    "num = float(input())\n",
    "print(type(num))"
   ]
  }
 ],
 "metadata": {
  "kernelspec": {
   "display_name": ".venv (3.13.0)",
   "language": "python",
   "name": "python3"
  },
  "language_info": {
   "codemirror_mode": {
    "name": "ipython",
    "version": 3
   },
   "file_extension": ".py",
   "mimetype": "text/x-python",
   "name": "python",
   "nbconvert_exporter": "python",
   "pygments_lexer": "ipython3",
   "version": "3.13.0"
  }
 },
 "nbformat": 4,
 "nbformat_minor": 5
}
