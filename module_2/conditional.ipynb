{
 "cells": [
  {
   "cell_type": "markdown",
   "id": "6d8fc51e",
   "metadata": {},
   "source": [
    "##Conditional statements in Python\n"
   ]
  },
  {
   "cell_type": "code",
   "execution_count": null,
   "id": "7e0816fc",
   "metadata": {
    "vscode": {
     "languageId": "plaintext"
    }
   },
   "outputs": [],
   "source": [
    "raining = True\n",
    "\n",
    "if raining== True;\n",
    "   print(\"Rain Cost is necessary\")\n",
    "   print(\"Caution\")\n",
    "else:\n",
    "   print(\"Go Without a rain coat\")\n",
    "   print(\"This is a sunny day\")\n"
   ]
  },
  {
   "cell_type": "code",
   "execution_count": null,
   "id": "5b58c8bd",
   "metadata": {
    "vscode": {
     "languageId": "plaintext"
    }
   },
   "outputs": [],
   "source": [
    "taka = 50\n",
    "\n",
    "if taka > 500:\n",
    "    print(\"I will buy a laptop\")\n",
    "elif taka > 400:\n",
    "    print(\"I will buy a tablet\")\n",
    "elif taka > 300:\n",
    "    print(\"I will buy a mobile\")\n",
    "else:\n",
    "    print(\"Save money\")"
   ]
  },
  {
   "cell_type": "code",
   "execution_count": null,
   "id": "633cd71e",
   "metadata": {
    "vscode": {
     "languageId": "plaintext"
    }
   },
   "outputs": [],
   "source": [
    "for i in range(11):\n",
    "    print(i , \"Hello World\")"
   ]
  }
 ],
 "metadata": {
  "language_info": {
   "name": "python"
  }
 },
 "nbformat": 4,
 "nbformat_minor": 5
}
