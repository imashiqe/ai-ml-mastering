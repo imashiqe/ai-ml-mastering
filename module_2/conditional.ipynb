{
 "cells": [
  {
   "cell_type": "markdown",
   "id": "6d8fc51e",
   "metadata": {},
   "source": [
    "##Conditional statements in Python\n"
   ]
  },
  {
   "cell_type": "code",
   "execution_count": null,
   "id": "7e0816fc",
   "metadata": {
    "vscode": {
     "languageId": "plaintext"
    }
   },
   "outputs": [],
   "source": [
    "raining = True\n",
    "\n",
    "if raining== True;\n",
    "   print(\"Rain Cost is necessary\")\n",
    "   print(\"Caution\")\n",
    "else:\n",
    "   print(\"Go Without a rain coat\")\n",
    "   print(\"This is a sunny day\")\n"
   ]
  },
  {
   "cell_type": "code",
   "execution_count": null,
   "id": "5b58c8bd",
   "metadata": {
    "vscode": {
     "languageId": "plaintext"
    }
   },
   "outputs": [],
   "source": [
    "taka = 50\n",
    "\n",
    "if taka > 500:\n",
    "    print(\"I will buy a laptop\")\n",
    "elif taka > 400:\n",
    "    print(\"I will buy a tablet\")\n",
    "elif taka > 300:\n",
    "    print(\"I will buy a mobile\")\n",
    "else:\n",
    "    print(\"Save money\")"
   ]
  },
  {
   "cell_type": "code",
   "execution_count": null,
   "id": "633cd71e",
   "metadata": {
    "vscode": {
     "languageId": "plaintext"
    }
   },
   "outputs": [],
   "source": [
    "for i in range(11):\n",
    "    print(i , \"Hello World\")"
   ]
  },
  {
   "cell_type": "code",
   "execution_count": null,
   "id": "e5c1e2ac",
   "metadata": {
    "vscode": {
     "languageId": "plaintext"
    }
   },
   "outputs": [],
   "source": [
    "count = 1\n",
    "\n",
    "while count <= 10:\n",
    "    print(count, \"Hello World\")\n",
    "    count = count + 1"
   ]
  },
  {
   "cell_type": "code",
   "execution_count": null,
   "id": "780ef07c",
   "metadata": {
    "vscode": {
     "languageId": "plaintext"
    }
   },
   "outputs": [],
   "source": [
    "sum = 0\n",
    "for i in range(1,11):\n",
    "    print (i, \"is processing\")\n",
    "\n",
    "    if i % 2 == 0: \n",
    "       continue\n",
    "\n",
    "    sum = sum + i\n",
    "    print(i , \"is added to the sum\")"
   ]
  },
  {
   "cell_type": "code",
   "execution_count": null,
   "id": "6fd3e08a",
   "metadata": {
    "vscode": {
     "languageId": "plaintext"
    }
   },
   "outputs": [],
   "source": [
    "accuracy = 95\n",
    "\n",
    "for i in range(20):\n",
    "    accuracy += 1\n",
    "    print(accuracy)\n",
    "    if accuracy == 100:\n",
    "        print(\"Accuracy is 100%\")\n",
    "        break"
   ]
  }
 ],
 "metadata": {
  "language_info": {
   "name": "python"
  }
 },
 "nbformat": 4,
 "nbformat_minor": 5
}
