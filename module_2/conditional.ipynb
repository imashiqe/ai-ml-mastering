{
 "cells": [
  {
   "cell_type": "markdown",
   "id": "6d8fc51e",
   "metadata": {},
   "source": [
    "##Conditional statements in Python\n"
   ]
  },
  {
   "cell_type": "code",
   "execution_count": null,
   "id": "7e0816fc",
   "metadata": {},
   "outputs": [],
   "source": [
    "raining = True\n",
    "\n",
    "if raining== True;\n",
    "   print(\"Rain Cost is necessary\")\n",
    "   print(\"Caution\")\n",
    "else:\n",
    "   print(\"Go Without a rain coat\")\n",
    "   print(\"This is a sunny day\")\n"
   ]
  }
 ],
 "metadata": {
  "kernelspec": {
   "display_name": "Python 3",
   "language": "python",
   "name": "python3"
  },
  "language_info": {
   "name": "python",
   "version": "3.13.7"
  }
 },
 "nbformat": 4,
 "nbformat_minor": 5
}
