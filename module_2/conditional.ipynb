{
 "cells": [
  {
   "cell_type": "markdown",
   "id": "6d8fc51e",
   "metadata": {},
   "source": [
    "##Conditional statements in Python\n"
   ]
  },
  {
   "cell_type": "code",
   "execution_count": null,
   "id": "7e0816fc",
   "metadata": {
    "vscode": {
     "languageId": "plaintext"
    }
   },
   "outputs": [],
   "source": [
    "raining = True\n",
    "\n",
    "if raining== True;\n",
    "   print(\"Rain Cost is necessary\")\n",
    "   print(\"Caution\")\n",
    "else:\n",
    "   print(\"Go Without a rain coat\")\n",
    "   print(\"This is a sunny day\")\n"
   ]
  },
  {
   "cell_type": "code",
   "execution_count": null,
   "id": "5b58c8bd",
   "metadata": {
    "vscode": {
     "languageId": "plaintext"
    }
   },
   "outputs": [],
   "source": [
    "taka = 50\n",
    "\n",
    "if taka > 500:\n",
    "    print(\"I will buy a laptop\")\n",
    "elif taka > 400:\n",
    "    print(\"I will buy a tablet\")\n",
    "elif taka > 300:\n",
    "    print(\"I will buy a mobile\")\n",
    "else:\n",
    "    print(\"Save money\")"
   ]
  },
  {
   "cell_type": "code",
   "execution_count": null,
   "id": "633cd71e",
   "metadata": {
    "vscode": {
     "languageId": "plaintext"
    }
   },
   "outputs": [],
   "source": [
    "for i in range(11):\n",
    "    print(i , \"Hello World\")"
   ]
  },
  {
   "cell_type": "code",
   "execution_count": null,
   "id": "e5c1e2ac",
   "metadata": {
    "vscode": {
     "languageId": "plaintext"
    }
   },
   "outputs": [],
   "source": [
    "count = 1\n",
    "\n",
    "while count <= 10:\n",
    "    print(count, \"Hello World\")\n",
    "    count = count + 1"
   ]
  },
  {
   "cell_type": "code",
   "execution_count": null,
   "id": "780ef07c",
   "metadata": {
    "vscode": {
     "languageId": "plaintext"
    }
   },
   "outputs": [],
   "source": [
    "sum = 0\n",
    "for i in range(1,11):\n",
    "    print (i, \"is processing\")\n",
    "\n",
    "    if i % 2 == 0: \n",
    "       continue\n",
    "\n",
    "    sum = sum + i\n",
    "    print(i , \"is added to the sum\")"
   ]
  },
  {
   "cell_type": "code",
   "execution_count": null,
   "id": "6fd3e08a",
   "metadata": {
    "vscode": {
     "languageId": "plaintext"
    }
   },
   "outputs": [],
   "source": [
    "accuracy = 95\n",
    "\n",
    "for i in range(20):\n",
    "    accuracy += 1\n",
    "    print(accuracy)\n",
    "    if accuracy == 100:\n",
    "        print(\"Accuracy is 100%\")\n",
    "        break"
   ]
  },
  {
   "cell_type": "markdown",
   "id": "94151635",
   "metadata": {},
   "source": [
    "Max Min problem"
   ]
  },
  {
   "cell_type": "code",
   "execution_count": null,
   "id": "be40fa4f",
   "metadata": {
    "vscode": {
     "languageId": "plaintext"
    }
   },
   "outputs": [],
   "source": [
    "inp = input()\n",
    "\n",
    "numbers = inp.split()\n",
    "\n",
    "x = int(numbers[0])\n",
    "y = int(numbers[1])\n",
    "z = int(numbers[2])\n",
    "\n",
    "1\n",
    "minimum = x\n",
    "maximum = x\n",
    "\n",
    "if minimum > y:\n",
    "    minimum = y\n",
    "if minimum > z:\n",
    "    minimum = z\n",
    "\n",
    "if y > maximum:\n",
    "    maximum = y\n",
    "if z > maximum:\n",
    "    maximum = z\n",
    "\n",
    "print (minimum , maximum)"
   ]
  },
  {
   "cell_type": "markdown",
   "id": "17f80677",
   "metadata": {},
   "source": [
    "### C . Even , Odd , Positive and Negative"
   ]
  },
  {
   "cell_type": "code",
   "execution_count": null,
   "id": "ca4b18dd",
   "metadata": {
    "vscode": {
     "languageId": "plaintext"
    }
   },
   "outputs": [],
   "source": [
    "n = int(input())\n",
    "\n",
    "inp = input()\n",
    "numbers = inp.split()\n",
    "positive = 0\n",
    "negative = 0\n",
    "even = 0\n",
    "odd = 0\n",
    "\n",
    "for i in range(n):\n",
    "    x = int(numbers[i])\n",
    "\n",
    "    if x > 0:\n",
    "        positive += 1\n",
    "    elif x < 0:\n",
    "        negative += 1\n",
    "\n",
    "    if x % 2 == 0:\n",
    "        even += 1\n",
    "    else:\n",
    "        odd += 1\n",
    "\n",
    "print(\"Even:\", even)\n",
    "print(\"Odd:\", odd)\n",
    "print(\"Positive:\", positive)\n",
    "print(\"Negative:\", negative)"
   ]
  }
 ],
 "metadata": {
  "language_info": {
   "name": "python"
  }
 },
 "nbformat": 4,
 "nbformat_minor": 5
}
