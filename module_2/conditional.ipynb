{
 "cells": [
  {
   "cell_type": "markdown",
   "id": "6d8fc51e",
   "metadata": {},
   "source": [
    "##Conditional statements in Python\n"
   ]
  },
  {
   "cell_type": "code",
   "execution_count": 2,
   "id": "7e0816fc",
   "metadata": {},
   "outputs": [
    {
     "name": "stdout",
     "output_type": "stream",
     "text": [
      "Rain Cost is necessary\n",
      "Caution\n"
     ]
    }
   ],
   "source": [
    "raining = True\n",
    "\n",
    "if raining == True:\n",
    "   print(\"Rain Cost is necessary\")\n",
    "   print(\"Caution\")\n",
    "else:\n",
    "   print(\"Go Without a rain coat\")\n",
    "   print(\"This is a sunny day\")\n"
   ]
  }
 ],
 "metadata": {
  "kernelspec": {
   "display_name": "Python 3",
   "language": "python",
   "name": "python3"
  },
  "language_info": {
   "codemirror_mode": {
    "name": "ipython",
    "version": 3
   },
   "file_extension": ".py",
   "mimetype": "text/x-python",
   "name": "python",
   "nbconvert_exporter": "python",
   "pygments_lexer": "ipython3",
   "version": "3.13.7"
  }
 },
 "nbformat": 4,
 "nbformat_minor": 5
}
