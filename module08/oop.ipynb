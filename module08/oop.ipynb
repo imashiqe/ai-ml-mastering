{
 "cells": [
  {
   "cell_type": "markdown",
   "id": "0c29ae6a",
   "metadata": {},
   "source": [
    "# Object Oriented Python"
   ]
  },
  {
   "cell_type": "code",
   "execution_count": 1,
   "id": "c14b6567",
   "metadata": {},
   "outputs": [],
   "source": [
    "\n",
    "# base class / parent class\n",
    "class Phone:\n",
    "  category = \"Electronics\"\n",
    "\n",
    "  # constructor\n",
    "\n",
    "  def __init__(self,model , battery , camera,battery_percentage=100):\n",
    "    self.model = model\n",
    "    self.battery = battery\n",
    "    self.camera = camera\n",
    "    self.battery_percentage = battery_percentage\n",
    "\n",
    "  # methods\n",
    "  def charge(self,hour):\n",
    "    print(f\"charge completed by {hour}\")\n",
    "\n",
    "  def capture(self,photo):\n",
    "    if(self.battery_percentage)<=0:\n",
    "      print(\"No charge\")\n",
    "    else:\n",
    "      self.battery_percentage-=photo\n",
    "      print(f\"photo captured in {self.model}\")\n",
    "\n",
    "\n",
    "\n",
    "class Cooling_Mechanism:\n",
    "  def __init__(self,cooling_method):\n",
    "    self.cooling_method= cooling_method\n",
    "\n",
    "\n",
    "  #methods\n",
    "  def cooling_on(self):\n",
    "    print(f\"the system is being cool by {self.cooling_method}\")\n"
   ]
  },
  {
   "cell_type": "code",
   "execution_count": null,
   "id": "7b1fa8e6",
   "metadata": {},
   "outputs": [],
   "source": [
    "\n",
    "## creating object\n",
    "\n",
    "apple = Phone(\"Iphone17\",3000,40)\n",
    "blueberry = Phone(\"B-17\",4000,30)\n",
    "motorola = Phone(\"M-17\",3500,35)\n",
    "apple.capture(10)\n",
    "print(motorola.battery_percentage)"
   ]
  },
  {
   "cell_type": "markdown",
   "id": "730ce8cd",
   "metadata": {},
   "source": [
    "### Single Inheritance"
   ]
  },
  {
   "cell_type": "code",
   "execution_count": null,
   "id": "94f24d41",
   "metadata": {},
   "outputs": [],
   "source": [
    "# child / derived class\n",
    "class SmartPhone(Phone):\n",
    "  def __init__(self,model , battery , camera,processor):\n",
    "    super().__init__(model,battery,camera)\n",
    "    self.processor = processor\n",
    "\n",
    "   ## modified method\n",
    "  def charge(self,hour):\n",
    "    print(\"fast charging in process\")\n",
    "    super().charge(hour)"
   ]
  },
  {
   "cell_type": "code",
   "execution_count": null,
   "id": "b177c289",
   "metadata": {},
   "outputs": [],
   "source": [
    "pro = SmartPhone(\"X\",5000,100,\"SnapDragon\")\n",
    "\n",
    "print(pro.model)\n",
    "\n",
    "pro.charge(1)"
   ]
  },
  {
   "cell_type": "markdown",
   "id": "b5c0e591",
   "metadata": {},
   "source": [
    "### Multiple Inheritance"
   ]
  },
  {
   "cell_type": "code",
   "execution_count": null,
   "id": "e633fadd",
   "metadata": {},
   "outputs": [],
   "source": [
    "class SmartPhone_CoolingMode(SmartPhone,Cooling_Mechanism):\n",
    "   def __init__(self,model , battery , camera,processor,cooling_method):\n",
    "    SmartPhone.__init__(self,model,battery,camera,processor)\n",
    "    Cooling_Mechanism.__init__(self,cooling_method)\n"
   ]
  },
  {
   "cell_type": "code",
   "execution_count": null,
   "id": "d07693c0",
   "metadata": {},
   "outputs": [],
   "source": [
    "pro_cooling = SmartPhone_CoolingMode(\"Y\",5000,100,\"SD\",\"Nitrogen\")\n",
    "\n",
    "print(pro_cooling.processor) # SmartPhone class theke\n",
    "print(pro_cooling.battery) # Phone class theke\n",
    "print(pro_cooling.cooling_method) # Cooling_Mechanism class theke\n",
    "print(pro_cooling.cooling_on()) # Cooling_Mechanism class er method\n",
    "print(pro_cooling.charge(1)) # SmartPhone er modified charge jeta Phone class theke inherited"
   ]
  },
  {
   "cell_type": "markdown",
   "id": "615ebf3b",
   "metadata": {},
   "source": [
    "### Polymorphsim"
   ]
  },
  {
   "cell_type": "code",
   "execution_count": null,
   "id": "255aa17f",
   "metadata": {},
   "outputs": [],
   "source": [
    "class Camera:\n",
    "  def __init__(self , name):\n",
    "    self.name = name\n",
    "\n",
    " # method\n",
    "  def capture(self):\n",
    "    print(\"a photo is captured\")\n",
    "     "
   ]
  },
  {
   "cell_type": "code",
   "execution_count": null,
   "id": "b4c1b326",
   "metadata": {},
   "outputs": [],
   "source": [
    "\n",
    "class Smart_Phone(Camera):\n",
    "  def __init__(self,name,resolution):\n",
    "    super().__init__(name)\n",
    "    self.resolution = resolution\n",
    "\n",
    "  #method overriding\n",
    "  def capture(self):\n",
    "    print(\"Photo is captured by a Phone\")\n",
    "\n",
    "\n",
    "class DSLR(Camera):\n",
    "  def __init__(self,name,resolution):\n",
    "    super().__init__(name)\n",
    "    self.resolution = resolution\n",
    "\n",
    "  def capture(self):\n",
    "    print(\"Photo is captured  by DSLR\")\n",
    "\n",
    "\n",
    "\n",
    "class Drone(Camera):\n",
    "  def __init__(self,name,resolution):\n",
    "    super().__init__(name)\n",
    "    self.resolution = resolution\n",
    "\n",
    "  def capture(self):\n",
    "    print(\"Photo is captured by Drone\")\n",
    "\n",
    "\n",
    "\n",
    "phone = Smart_Phone(\"Phone\",30)\n",
    "dslr = DSLR (\"DSLR\",200)\n",
    "drone = Drone(\"Drone\",150)\n",
    "\n",
    "\n",
    "phone.capture()\n",
    "dslr.capture()\n",
    "drone.capture()"
   ]
  }
 ],
 "metadata": {
  "kernelspec": {
   "display_name": "Python 3",
   "language": "python",
   "name": "python3"
  },
  "language_info": {
   "codemirror_mode": {
    "name": "ipython",
    "version": 3
   },
   "file_extension": ".py",
   "mimetype": "text/x-python",
   "name": "python",
   "nbconvert_exporter": "python",
   "pygments_lexer": "ipython3",
   "version": "3.13.0"
  }
 },
 "nbformat": 4,
 "nbformat_minor": 5
}
