{
 "cells": [
  {
   "cell_type": "markdown",
   "id": "0c29ae6a",
   "metadata": {},
   "source": [
    "# Object Oriented Python"
   ]
  },
  {
   "cell_type": "code",
   "execution_count": null,
   "id": "c14b6567",
   "metadata": {},
   "outputs": [
    {
     "ename": "",
     "evalue": "",
     "output_type": "error",
     "traceback": [
      "\u001b[1;31mThe Kernel crashed while executing code in the current cell or a previous cell. \n",
      "\u001b[1;31mPlease review the code in the cell(s) to identify a possible cause of the failure. \n",
      "\u001b[1;31mClick <a href='https://aka.ms/vscodeJupyterKernelCrash'>here</a> for more info. \n",
      "\u001b[1;31mView Jupyter <a href='command:jupyter.viewOutput'>log</a> for further details."
     ]
    }
   ],
   "source": [
    "\n",
    "# base class / parent class\n",
    "class Phone:\n",
    "  category = \"Electronics\"\n",
    "\n",
    "  # constructor\n",
    "\n",
    "  def __init__(self,model , battery , camera,battery_percentage=100):\n",
    "    self.model = model\n",
    "    self.battery = battery\n",
    "    self.camera = camera\n",
    "    self.battery_percentage = battery_percentage\n",
    "\n",
    "  # methods\n",
    "  def charge(self,hour):\n",
    "    print(f\"charge completed by {hour}\")\n",
    "\n",
    "  def capture(self,photo):\n",
    "    if(self.battery_percentage)<=0:\n",
    "      print(\"No charge\")\n",
    "    else:\n",
    "      self.battery_percentage-=photo\n",
    "      print(f\"photo captured in {self.model}\")\n",
    "\n",
    "\n",
    "\n",
    "class Cooling_Mechanism:\n",
    "  def __init__(self,cooling_method):\n",
    "    self.cooling_method= cooling_method\n",
    "\n",
    "\n",
    "  #methods\n",
    "  def cooling_on(self):\n",
    "    print(f\"the system is being cool by {self.cooling_method}\")\n"
   ]
  },
  {
   "cell_type": "code",
   "execution_count": null,
   "id": "7b1fa8e6",
   "metadata": {},
   "outputs": [],
   "source": [
    "\n",
    "## creating object\n",
    "\n",
    "apple = Phone(\"Iphone17\",3000,40)\n",
    "blueberry = Phone(\"B-17\",4000,30)\n",
    "motorola = Phone(\"M-17\",3500,35)\n",
    "apple.capture(10)\n",
    "print(motorola.battery_percentage)"
   ]
  },
  {
   "cell_type": "markdown",
   "id": "730ce8cd",
   "metadata": {},
   "source": [
    "### Single Inheritance"
   ]
  },
  {
   "cell_type": "code",
   "execution_count": null,
   "id": "94f24d41",
   "metadata": {},
   "outputs": [],
   "source": [
    "# child / derived class\n",
    "class SmartPhone(Phone):\n",
    "  def __init__(self,model , battery , camera,processor):\n",
    "    super().__init__(model,battery,camera)\n",
    "    self.processor = processor\n",
    "\n",
    "   ## modified method\n",
    "  def charge(self,hour):\n",
    "    print(\"fast charging in process\")\n",
    "    super().charge(hour)"
   ]
  },
  {
   "cell_type": "code",
   "execution_count": null,
   "id": "b177c289",
   "metadata": {},
   "outputs": [],
   "source": [
    "pro = SmartPhone(\"X\",5000,100,\"SnapDragon\")\n",
    "\n",
    "print(pro.model)\n",
    "\n",
    "pro.charge(1)"
   ]
  },
  {
   "cell_type": "markdown",
   "id": "b5c0e591",
   "metadata": {},
   "source": [
    "### Multiple Inheritance"
   ]
  },
  {
   "cell_type": "code",
   "execution_count": null,
   "id": "e633fadd",
   "metadata": {},
   "outputs": [],
   "source": [
    "class SmartPhone_CoolingMode(SmartPhone,Cooling_Mechanism):\n",
    "   def __init__(self,model , battery , camera,processor,cooling_method):\n",
    "    SmartPhone.__init__(self,model,battery,camera,processor)\n",
    "    Cooling_Mechanism.__init__(self,cooling_method)\n"
   ]
  },
  {
   "cell_type": "code",
   "execution_count": null,
   "id": "d07693c0",
   "metadata": {},
   "outputs": [],
   "source": [
    "pro_cooling = SmartPhone_CoolingMode(\"Y\",5000,100,\"SD\",\"Nitrogen\")\n",
    "\n",
    "print(pro_cooling.processor) # SmartPhone class theke\n",
    "print(pro_cooling.battery) # Phone class theke\n",
    "print(pro_cooling.cooling_method) # Cooling_Mechanism class theke\n",
    "print(pro_cooling.cooling_on()) # Cooling_Mechanism class er method\n",
    "print(pro_cooling.charge(1)) # SmartPhone er modified charge jeta Phone class theke inherited"
   ]
  },
  {
   "cell_type": "markdown",
   "id": "615ebf3b",
   "metadata": {},
   "source": [
    "### Polymorphsim"
   ]
  },
  {
   "cell_type": "code",
   "execution_count": null,
   "id": "255aa17f",
   "metadata": {},
   "outputs": [],
   "source": [
    "class Camera:\n",
    "  def __init__(self , name):\n",
    "    self.name = name\n",
    "\n",
    " # method\n",
    "  def capture(self):\n",
    "    print(\"a photo is captured\")\n",
    "     "
   ]
  },
  {
   "cell_type": "code",
   "execution_count": null,
   "id": "b4c1b326",
   "metadata": {},
   "outputs": [],
   "source": [
    "\n",
    "class Smart_Phone(Camera):\n",
    "  def __init__(self,name,resolution):\n",
    "    super().__init__(name)\n",
    "    self.resolution = resolution\n",
    "\n",
    "  #method overriding\n",
    "  def capture(self):\n",
    "    print(\"Photo is captured by a Phone\")\n",
    "\n",
    "\n",
    "class DSLR(Camera):\n",
    "  def __init__(self,name,resolution):\n",
    "    super().__init__(name)\n",
    "    self.resolution = resolution\n",
    "\n",
    "  def capture(self):\n",
    "    print(\"Photo is captured  by DSLR\")\n",
    "\n",
    "\n",
    "\n",
    "class Drone(Camera):\n",
    "  def __init__(self,name,resolution):\n",
    "    super().__init__(name)\n",
    "    self.resolution = resolution\n",
    "\n",
    "  def capture(self):\n",
    "    print(\"Photo is captured by Drone\")\n",
    "\n",
    "\n",
    "\n",
    "phone = Smart_Phone(\"Phone\",30)\n",
    "dslr = DSLR (\"DSLR\",200)\n",
    "drone = Drone(\"Drone\",150)\n",
    "\n",
    "\n",
    "phone.capture()\n",
    "dslr.capture()\n",
    "drone.capture()"
   ]
  },
  {
   "cell_type": "markdown",
   "id": "2e2ed139",
   "metadata": {},
   "source": [
    "### Encapsulation"
   ]
  },
  {
   "cell_type": "code",
   "execution_count": null,
   "id": "60769d1d",
   "metadata": {},
   "outputs": [],
   "source": [
    "# design\n",
    "class Mobile:\n",
    "  def __init__(self,name,model,imei):\n",
    "    self.__name = name\n",
    "    self.__model = model\n",
    "    self.__imei = imei # private\n",
    "\n",
    "  def charge(self):\n",
    "    print(\"phone is charging\")\n",
    "\n",
    "  # method imei ta paite pari\n",
    "  def imei_getter(self):\n",
    "    return self.__imei\n",
    "  def model_getter(self):\n",
    "    return self.__model\n",
    "\n",
    "\n",
    "\n",
    "  def name_getter(self):\n",
    "    return self.__name\n",
    "\n",
    "\n",
    "  def name_setter(self,name):\n",
    "    self.__name = name\n",
    "\n",
    "\n",
    "\n",
    "\n",
    "\n",
    "\n",
    "\n",
    "#outside world ( user )\n",
    "\n",
    "# registration\n",
    "iphone = Mobile(\"Phone\",\"17\",\"1xkaf1\")\n",
    "\n",
    "print(iphone.name_getter())\n",
    "\n",
    "iphone.name_setter(\"Phitron\")\n",
    "\n",
    "\n",
    "print(iphone.name_getter())\n"
   ]
  },
  {
   "cell_type": "markdown",
   "id": "5f8274eb",
   "metadata": {},
   "source": [
    "### Abstraction"
   ]
  },
  {
   "cell_type": "code",
   "execution_count": null,
   "id": "1d91ca2b",
   "metadata": {},
   "outputs": [],
   "source": [
    "\n",
    "from abc import  ABC , abstractmethod\n",
    "\n",
    "class Telephone(ABC):\n",
    "\n",
    "  @abstractmethod\n",
    "  def make_call(self):\n",
    "    pass\n",
    "\n",
    "\n",
    "\n",
    "class Sphone(Telephone):\n",
    "  def make_call(self):\n",
    "    print(\"Making a call using SPhone\")\n",
    "\n",
    "\n",
    "\n",
    "class Iphone(Telephone):\n",
    "   def make_call(self):\n",
    "    print(\"Making a call using IPhone\")\n"
   ]
  }
 ],
 "metadata": {
  "kernelspec": {
   "display_name": "Python 3",
   "language": "python",
   "name": "python3"
  },
  "language_info": {
   "codemirror_mode": {
    "name": "ipython",
    "version": 3
   },
   "file_extension": ".py",
   "mimetype": "text/x-python",
   "name": "python",
   "nbconvert_exporter": "python",
   "pygments_lexer": "ipython3",
   "version": "3.13.0"
  }
 },
 "nbformat": 4,
 "nbformat_minor": 5
}
