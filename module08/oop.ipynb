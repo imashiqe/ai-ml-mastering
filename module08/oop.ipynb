{
 "cells": [
  {
   "cell_type": "markdown",
   "id": "0c29ae6a",
   "metadata": {},
   "source": [
    "# Object Oriented Python"
   ]
  },
  {
   "cell_type": "code",
   "execution_count": 1,
   "id": "c14b6567",
   "metadata": {},
   "outputs": [],
   "source": [
    "\n",
    "# base class / parent class\n",
    "class Phone:\n",
    "  category = \"Electronics\"\n",
    "\n",
    "  # constructor\n",
    "\n",
    "  def __init__(self,model , battery , camera,battery_percentage=100):\n",
    "    self.model = model\n",
    "    self.battery = battery\n",
    "    self.camera = camera\n",
    "    self.battery_percentage = battery_percentage\n",
    "\n",
    "  # methods\n",
    "  def charge(self,hour):\n",
    "    print(f\"charge completed by {hour}\")\n",
    "\n",
    "  def capture(self,photo):\n",
    "    if(self.battery_percentage)<=0:\n",
    "      print(\"No charge\")\n",
    "    else:\n",
    "      self.battery_percentage-=photo\n",
    "      print(f\"photo captured in {self.model}\")\n",
    "\n",
    "\n",
    "\n",
    "class Cooling_Mechanism:\n",
    "  def __init__(self,cooling_method):\n",
    "    self.cooling_method= cooling_method\n",
    "\n",
    "\n",
    "  #methods\n",
    "  def cooling_on(self):\n",
    "    print(f\"the system is being cool by {self.cooling_method}\")\n"
   ]
  }
 ],
 "metadata": {
  "kernelspec": {
   "display_name": "Python 3",
   "language": "python",
   "name": "python3"
  },
  "language_info": {
   "codemirror_mode": {
    "name": "ipython",
    "version": 3
   },
   "file_extension": ".py",
   "mimetype": "text/x-python",
   "name": "python",
   "nbconvert_exporter": "python",
   "pygments_lexer": "ipython3",
   "version": "3.13.0"
  }
 },
 "nbformat": 4,
 "nbformat_minor": 5
}
