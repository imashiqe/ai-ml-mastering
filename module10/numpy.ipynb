{
 "cells": [
  {
   "cell_type": "markdown",
   "id": "5bab1277",
   "metadata": {},
   "source": [
    "# Numpy"
   ]
  },
  {
   "cell_type": "code",
   "execution_count": 1,
   "id": "44785fd0",
   "metadata": {},
   "outputs": [
    {
     "name": "stdout",
     "output_type": "stream",
     "text": [
      "[1, 2, 3, 1, 2, 3, 1, 2, 3, 1, 2, 3, 1, 2, 3]\n",
      "[5, 10, 15]\n"
     ]
    }
   ],
   "source": [
    "arr = [1,2,3]\n",
    "\n",
    "print( arr * 5 )\n",
    "\n",
    "arr = [ x*5 for x in arr] \n",
    "\n",
    "print(arr)"
   ]
  },
  {
   "cell_type": "code",
   "execution_count": 1,
   "id": "a17c44a4",
   "metadata": {},
   "outputs": [
    {
     "name": "stdout",
     "output_type": "stream",
     "text": [
      "[ 5 10 15]\n"
     ]
    }
   ],
   "source": [
    "import numpy as np\n",
    "\n",
    "arr1 = np.array([1,2,3]) \n",
    "\n",
    "arr1 = arr1 * 5\n",
    "\n",
    "print(arr1)"
   ]
  },
  {
   "cell_type": "markdown",
   "id": "364bfbf7",
   "metadata": {},
   "source": [
    "# Ndarray"
   ]
  },
  {
   "cell_type": "code",
   "execution_count": 3,
   "id": "8f6a8698",
   "metadata": {},
   "outputs": [],
   "source": [
    "import numpy as np \n",
    "\n",
    "# 1d array \n",
    "arr1 = np.array([1,2,3,4,5])\n",
    "\n",
    "\n",
    "# 2d array \n",
    "arr2 = np.array([ [1,2,3], # row1\n",
    "                  [4,5,6] #row2\n",
    "                ])\n",
    "\n",
    "#3d array \n",
    "\n",
    "arr3 = np.array([\n",
    "    #1st floor\n",
    "    [ [1,2,3], # row1\n",
    "      [4,5,6]  ], #row2 \n",
    "\n",
    "    #2nd floor\n",
    "\n",
    "     [[1,2,3], # row1\n",
    "      [4,5,6]  ], #row2  \n",
    "\n",
    "\n",
    "    #3rd floor\n",
    "      [[1,2,3], # row1\n",
    "      [4,5,6]  ] #row2  \n",
    "\n",
    "    \n",
    "])"
   ]
  }
 ],
 "metadata": {
  "kernelspec": {
   "display_name": "Python 3",
   "language": "python",
   "name": "python3"
  },
  "language_info": {
   "codemirror_mode": {
    "name": "ipython",
    "version": 3
   },
   "file_extension": ".py",
   "mimetype": "text/x-python",
   "name": "python",
   "nbconvert_exporter": "python",
   "pygments_lexer": "ipython3",
   "version": "3.14.0"
  }
 },
 "nbformat": 4,
 "nbformat_minor": 5
}
