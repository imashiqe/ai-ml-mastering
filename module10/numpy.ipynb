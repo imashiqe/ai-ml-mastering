{
 "cells": [
  {
   "cell_type": "markdown",
   "id": "5bab1277",
   "metadata": {},
   "source": [
    "# Numpy"
   ]
  },
  {
   "cell_type": "code",
   "execution_count": null,
   "id": "44785fd0",
   "metadata": {
    "vscode": {
     "languageId": "plaintext"
    }
   },
   "outputs": [],
   "source": [
    "arr = [1,2,3]\n",
    "\n",
    "print( arr * 5 )\n",
    "\n",
    "arr = [ x*5 for x in arr] \n",
    "\n",
    "print(arr)"
   ]
  }
 ],
 "metadata": {
  "language_info": {
   "name": "python"
  }
 },
 "nbformat": 4,
 "nbformat_minor": 5
}
